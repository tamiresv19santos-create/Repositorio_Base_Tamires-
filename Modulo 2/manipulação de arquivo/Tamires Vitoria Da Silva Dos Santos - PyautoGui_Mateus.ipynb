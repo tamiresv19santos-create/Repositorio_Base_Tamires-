{
 "cells": [
  {
   "cell_type": "markdown",
   "id": "303341c3",
   "metadata": {},
   "source": [
    "### Abrindo o bloco de notas "
   ]
  },
  {
   "cell_type": "code",
   "execution_count": 5,
   "id": "9d41eb22",
   "metadata": {},
   "outputs": [],
   "source": [
    "# estou importando o pyautogui e apelidando ele de aut\n",
    "import pyautogui as aut \n",
    "\n",
    "#pressiono a tecla de atalho win +r\n",
    "aut.hotkey(\"win\",\"r\")\n",
    "#escrever notepad\n",
    "aut.write(\"notepad\")\n",
    "#espera 1 segundo\n",
    "aut.sleep(1)\n",
    "#aperta o Enter\n",
    "aut.press(\"Enter\")\n",
    "#Move o Mouse\n",
    "aut.moveTo(85,147)\n",
    "#Click\n",
    "aut.click()"
   ]
  },
  {
   "cell_type": "markdown",
   "id": "f4c920d3",
   "metadata": {},
   "source": [
    "### Pegando a posição do MOUSE"
   ]
  },
  {
   "cell_type": "code",
   "execution_count": 52,
   "id": "50174243",
   "metadata": {},
   "outputs": [],
   "source": [
    "import pyautogui as aut \n",
    "\n",
    "link= \"https://www.youtube.com/\"\n",
    "\n",
    "aut.press(\"Win\")\n",
    "aut.sleep(1)\n",
    "aut.write(\"Chrome\", interval=0.2)\n",
    "aut.sleep(2)\n",
    "aut.press(\"enter\")\n",
    "aut.moveTo(903,489)\n",
    "aut.click()\n",
    "aut.sleep(2)\n",
    "aut.moveTo(949,563)\n",
    "aut.click()\n",
    "aut.sleep(2)\n",
    "aut.moveTo(1243,251)\n",
    "aut.sleep(1)\n",
    "aut.write(link) \n",
    "aut.sleep(2)\n",
    "aut.press(\"enter\")\n",
    "\n",
    "\n",
    "\n",
    "\n",
    "\n",
    "\n"
   ]
  },
  {
   "cell_type": "code",
   "execution_count": 63,
   "id": "cc3731f8",
   "metadata": {},
   "outputs": [],
   "source": [
    "aut.mouseInfo()\n"
   ]
  },
  {
   "cell_type": "markdown",
   "id": "029d9249",
   "metadata": {},
   "source": [
    "### Tentando Jogar o dinossauro"
   ]
  },
  {
   "cell_type": "code",
   "execution_count": null,
   "id": "b7e63929",
   "metadata": {},
   "outputs": [
    {
     "ename": "KeyboardInterrupt",
     "evalue": "",
     "output_type": "error",
     "traceback": [
      "\u001b[31m---------------------------------------------------------------------------\u001b[39m",
      "\u001b[31mKeyboardInterrupt\u001b[39m                         Traceback (most recent call last)",
      "\u001b[36mCell\u001b[39m\u001b[36m \u001b[39m\u001b[32mIn[28]\u001b[39m\u001b[32m, line 16\u001b[39m\n\u001b[32m     13\u001b[39m aut.press(\u001b[33m\"\u001b[39m\u001b[33mjogar\u001b[39m\u001b[33m\"\u001b[39m)\n\u001b[32m     15\u001b[39m \u001b[38;5;28;01mwhile\u001b[39;00m \u001b[38;5;28;01mTrue\u001b[39;00m:\n\u001b[32m---> \u001b[39m\u001b[32m16\u001b[39m     \u001b[43maut\u001b[49m\u001b[43m.\u001b[49m\u001b[43mpress\u001b[49m\u001b[43m(\u001b[49m\u001b[33;43m\"\u001b[39;49m\u001b[33;43mspace\u001b[39;49m\u001b[33;43m\"\u001b[39;49m\u001b[43m)\u001b[49m\n",
      "\u001b[36mFile \u001b[39m\u001b[32m~\\AppData\\Roaming\\Python\\Python313\\site-packages\\pyautogui\\__init__.py:595\u001b[39m, in \u001b[36m_genericPyAutoGUIChecks.<locals>.wrapper\u001b[39m\u001b[34m(*args, **kwargs)\u001b[39m\n\u001b[32m    593\u001b[39m failSafeCheck()\n\u001b[32m    594\u001b[39m returnVal = wrappedFunction(*args, **kwargs)\n\u001b[32m--> \u001b[39m\u001b[32m595\u001b[39m \u001b[43m_handlePause\u001b[49m\u001b[43m(\u001b[49m\u001b[43mkwargs\u001b[49m\u001b[43m.\u001b[49m\u001b[43mget\u001b[49m\u001b[43m(\u001b[49m\u001b[33;43m\"\u001b[39;49m\u001b[33;43m_pause\u001b[39;49m\u001b[33;43m\"\u001b[39;49m\u001b[43m,\u001b[49m\u001b[43m \u001b[49m\u001b[38;5;28;43;01mTrue\u001b[39;49;00m\u001b[43m)\u001b[49m\u001b[43m)\u001b[49m\n\u001b[32m    596\u001b[39m \u001b[38;5;28;01mreturn\u001b[39;00m returnVal\n",
      "\u001b[36mFile \u001b[39m\u001b[32m~\\AppData\\Roaming\\Python\\Python313\\site-packages\\pyautogui\\__init__.py:639\u001b[39m, in \u001b[36m_handlePause\u001b[39m\u001b[34m(_pause)\u001b[39m\n\u001b[32m    637\u001b[39m \u001b[38;5;28;01mif\u001b[39;00m _pause:\n\u001b[32m    638\u001b[39m     \u001b[38;5;28;01massert\u001b[39;00m \u001b[38;5;28misinstance\u001b[39m(PAUSE, \u001b[38;5;28mint\u001b[39m) \u001b[38;5;129;01mor\u001b[39;00m \u001b[38;5;28misinstance\u001b[39m(PAUSE, \u001b[38;5;28mfloat\u001b[39m)\n\u001b[32m--> \u001b[39m\u001b[32m639\u001b[39m     \u001b[43mtime\u001b[49m\u001b[43m.\u001b[49m\u001b[43msleep\u001b[49m\u001b[43m(\u001b[49m\u001b[43mPAUSE\u001b[49m\u001b[43m)\u001b[49m\n",
      "\u001b[31mKeyboardInterrupt\u001b[39m: "
     ]
    }
   ],
   "source": [
    "import pyautogui as aut\n",
    "\n",
    "link = \"chrome://dino\"\n",
    "\n",
    "aut.hotkey(\"win\",\"r\")\n",
    "aut.write(\"chrome\")\n",
    "aut.sleep(1)\n",
    "aut.press(\"Enter\")\n",
    "aut.write(link)\n",
    "aut.sleep(0.5)\n",
    "aut.press(\"Enter\")\n",
    "aut.sleep(3)  # Tempo para abrir o jogo (chrome://dino)\n",
    "aut.press(\"space\")\n",
    "\n",
    "while True:\n",
    "    aut.press(\"space\")"
   ]
  },
  {
   "cell_type": "code",
   "execution_count": 9,
   "id": "66a3a089",
   "metadata": {},
   "outputs": [],
   "source": [
    "import pyautogui as aut\n",
    "\n",
    "email= \"tamiresv19santos@gmail\"\n",
    "mensagem= \"oii teste (aut)\"\n",
    "\n",
    "aut.press(\"win\")\n",
    "aut.sleep(2)\n",
    "aut.write(\"chrome\", interval=0.2)\n",
    "aut.sleep(1)\n",
    "aut.press(\"Entrar\")\n",
    "aut.sleep(2)\n",
    "aut.moveTo(960,585)\n",
    "aut.sleep(5)\n",
    "aut.tripleClick()\n",
    "aut.tripleClick()\n",
    "aut.tripleClick()\n",
    "aut.tripleClick()\n",
    "# aut.sleep(2)\n",
    "# aut.moveTo(719,163)\n",
    "# aut.click()\n",
    "# aut.sleep(3)\n",
    "# aut.moveTo(59,234)\n",
    "# aut.click()                              \n",
    "# aut.sleep(2)\n",
    "# aut.moveTo(588,684)\n",
    "# aut.click()\n",
    "# aut.sleep(2)\n",
    "# aut.write(email)\n",
    "# aut.sleep(1)\n",
    "# aut.moveTo(586,632)\n",
    "# aut.click()\n",
    "# aut.sleep(2)\n",
    "# aut.moveTo(588,659)\n",
    "# aut.click()\n",
    "# aut.sleep(2)\n",
    "# aut.write(mensagem)"
   ]
  },
  {
   "cell_type": "code",
   "execution_count": null,
   "id": "88681ddf",
   "metadata": {},
   "outputs": [],
   "source": [
    "import pyautogui as aut\n",
    "\n",
    "aut.hotkey(\"win\",\"r\")\n",
    "aut.write(\"chrome\")\n",
    "aut.sleep(1)\n",
    "aut.press(\"enter\")\n",
    "aut.sleep(1)\n",
    "aut.moveTo(960,585)\n",
    "aut.sleep(1)\n",
    "aut.click()\n",
    "aut.sleep(1)"
   ]
  }
 ],
 "metadata": {
  "kernelspec": {
   "display_name": "Python 3",
   "language": "python",
   "name": "python3"
  },
  "language_info": {
   "codemirror_mode": {
    "name": "ipython",
    "version": 3
   },
   "file_extension": ".py",
   "mimetype": "text/x-python",
   "name": "python",
   "nbconvert_exporter": "python",
   "pygments_lexer": "ipython3",
   "version": "3.13.2"
  }
 },
 "nbformat": 4,
 "nbformat_minor": 5
}
