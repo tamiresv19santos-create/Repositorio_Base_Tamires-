{
 "cells": [
  {
   "cell_type": "markdown",
   "id": "4d330663",
   "metadata": {},
   "source": [
    "### CÁLCULO DE BÔNUSS\n"
   ]
  },
  {
   "cell_type": "code",
   "execution_count": null,
   "id": "5cb48080",
   "metadata": {},
   "outputs": [
    {
     "name": "stdout",
     "output_type": "stream",
     "text": [
      "funcionario  ganhou 0 de bonus\n"
     ]
    }
   ],
   "source": [
    "vendas_funcionario1= float(input(\"digite a quantidae de vendas do vendedor 1\"))\n",
    "\n",
    "vendas_funcionario2= float(input(\"digite a quantidae de vendas do vendedor 2\"))\n",
    "\n",
    "vendas_funcionario3 = float(input(\"digite a quantidae de vendas do vendedor 3\"))\n",
    "\n",
    "meta= 1000\n",
    "\n",
    "if vendas_funcionario1 >= meta:\n",
    "   bonus = vendas_funcionario1 * 0.10\n",
    "   print(f\"O seu bonus é de {bonus}\")\n",
    "\n",
    "\n",
    "\n",
    "else:\n",
    "   bonus = 0 \n",
    "   print(f\"funcionario  ganhou {bonus} de bonus\")      "
   ]
  }
 ],
 "metadata": {
  "kernelspec": {
   "display_name": "Python 3",
   "language": "python",
   "name": "python3"
  },
  "language_info": {
   "codemirror_mode": {
    "name": "ipython",
    "version": 3
   },
   "file_extension": ".py",
   "mimetype": "text/x-python",
   "name": "python",
   "nbconvert_exporter": "python",
   "pygments_lexer": "ipython3",
   "version": "3.13.2"
  }
 },
 "nbformat": 4,
 "nbformat_minor": 5
}
