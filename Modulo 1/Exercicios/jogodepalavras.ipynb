{
 "cells": [
  {
   "cell_type": "markdown",
   "id": "ba1d8dc3",
   "metadata": {},
   "source": [
    "### jogo de adivinhação\n",
    "vamos criar um jogo que adivinha o número que o usuario digitou "
   ]
  },
  {
   "cell_type": "code",
   "execution_count": 1,
   "id": "ea928209",
   "metadata": {},
   "outputs": [
    {
     "name": "stdout",
     "output_type": "stream",
     "text": [
      "jogo de adivinhação!!! Boa sorte!!\n",
      "--------------------------------------\n",
      "seu bobão, acertei a letra, tenho certeza que é a hihi\n"
     ]
    }
   ],
   "source": [
    "print(\"jogo de adivinhação!!! Boa sorte!!\")\n",
    "print(\"--------------------------------------\")\n",
    "letra = (input(\"informe uma letra qualquer:!!!!\"))\n",
    "print(f\"seu bobão, acertei a letra, tenho certeza que é a {letra}\")\n"
   ]
  },
  {
   "cell_type": "markdown",
   "id": "96cf9145",
   "metadata": {},
   "source": [
    "### meu carro dos sonhos \n",
    "\n",
    "vamos pedir para o usuario nos informar o nome do carro e o preço do carro dos sonhos "
   ]
  },
  {
   "cell_type": "code",
   "execution_count": null,
   "id": "ba8649b9",
   "metadata": {},
   "outputs": [
    {
     "name": "stdout",
     "output_type": "stream",
     "text": [
      "o nome do carro é bmw x1\n",
      "preço do carro é 200000.0\n",
      "ano do carro é 2021\n",
      " a cor do carro é preto\n",
      " tenho  0.73\n"
     ]
    }
   ],
   "source": [
    "nome_carro = (input(\"informe o nome do seu carro dos sonhos: !!!\"))\n",
    "preco_carro = float(input(\"informe o preço do carro: !!!\"))\n",
    "ano_carro = (input(\"informe o ano do carro: !!!\"))\n",
    "cor_carro = ( input(\" informe a cor do carro\"))\n",
    "quanto_tenho = float (input(\"quanto voce tem?\"))\n",
    "\n",
    "\n",
    "print(f\"o nome do carro é {nome_carro}\")\n",
    "print(f\"preço do carro é {preco_carro}\")\n",
    "print(f\"ano do carro é {ano_carro}\")\n",
    "print(f\" a cor do carro é {cor_carro}\")\n",
    "print(f\" tenho  {quanto_tenho}\")\n",
    "\n",
    "\n",
    "\n",
    "\n",
    " \n",
    "\n"
   ]
  },
  {
   "cell_type": "markdown",
   "id": "58571f72",
   "metadata": {},
   "source": [
    "### agenda de celular\n",
    "peça ao usuario que informe o nome dele(a) e o número de telefone dele(a)\n",
    "\n",
    "\n",
    " depois mostre ao usuario print() com uma mensagem o nome dele(a) e o nùmero de telefone \n",
    " "
   ]
  },
  {
   "cell_type": "markdown",
   "id": "972f35c6",
   "metadata": {},
   "source": []
  },
  {
   "cell_type": "code",
   "execution_count": 6,
   "id": "3ac14a69",
   "metadata": {},
   "outputs": [
    {
     "name": "stdout",
     "output_type": "stream",
     "text": [
      " gostei de saber o seu nome gael, gostei de saber seu apelido ga, e seu número de telefone 40028922\n"
     ]
    }
   ],
   "source": [
    "nome_usuàrio = (input(\"informe o seu nome \"))\n",
    "número_telefone = (input(\" informe o número de telefone \"))\n",
    "apelido = (input(\"me informe seu apelido\"))\n",
    "print(f\" gostei de saber o seu nome {nome_usuàrio}, gostei de saber seu apelido {apelido}, e seu número de telefone {número_telefone}\")\n"
   ]
  },
  {
   "cell_type": "markdown",
   "id": "625ca811",
   "metadata": {},
   "source": [
    "### MEU FILME PREFERIDO \n",
    "peça para que o usuàrio informe o nome do filme, ano, e o diretor desse filme \n"
   ]
  },
  {
   "cell_type": "code",
   "execution_count": 2,
   "id": "b45756cc",
   "metadata": {},
   "outputs": [
    {
     "name": "stdout",
     "output_type": "stream",
     "text": [
      "gostei de saber o nome do filme atraves da minha janela , gostei de saber o 2022 e o nome do diretor marçal forés \n"
     ]
    }
   ],
   "source": [
    "nome_filme = (input(\"informe o nome do filme \"))\n",
    "ano_filme = (input(\" ano do filme \"))\n",
    "diretor_filme = (input(\" diretor do filme \"))\n",
    "print(f\"gostei de saber o nome do filme {nome_filme}, gostei de saber o {ano_filme} e o nome do diretor {diretor_filme} \")\n"
   ]
  },
  {
   "cell_type": "markdown",
   "id": "62ea7007",
   "metadata": {},
   "source": [
    "### ADIVINHA A IDADE\n",
    "preciso do ano do nascimento e o ano atual "
   ]
  },
  {
   "cell_type": "code",
   "execution_count": 5,
   "id": "e0a521e9",
   "metadata": {},
   "outputs": [
    {
     "name": "stdout",
     "output_type": "stream",
     "text": [
      "A sua idade é 18  \n"
     ]
    }
   ],
   "source": [
    "ano_nascimento = int(input(\"me informe o ano do seu nascimento\"))\n",
    "ano_atual = int(input(\"me informe o ano atual\"))\n",
    "idade = ano_atual - ano_nascimento\n",
    "print(f\"A sua idade é {idade}  \")\n",
    "\n",
    "\n",
    "\n",
    "\n"
   ]
  },
  {
   "cell_type": "markdown",
   "id": "12575a10",
   "metadata": {},
   "source": [
    "### AULA DE HJ: IF e ELSE"
   ]
  },
  {
   "cell_type": "code",
   "execution_count": 7,
   "id": "b8a68d9f",
   "metadata": {},
   "outputs": [
    {
     "name": "stdout",
     "output_type": "stream",
     "text": [
      "você é maior de idade\n"
     ]
    }
   ],
   "source": [
    "ano_nascimento = int(input(\"me informe o ano do seu nascimento\"))\n",
    "ano_atual = int(input(\"me informe o ano atual\"))\n",
    "idade = ano_atual - ano_nascimento\n",
    "\n",
    "if idade >=18:\n",
    "    print(\"você é maior de idade\")\n",
    "else:\n",
    "    print(\"você e menor de idade\")"
   ]
  },
  {
   "cell_type": "code",
   "execution_count": 54,
   "id": "7d1d7371",
   "metadata": {},
   "outputs": [
    {
     "name": "stdout",
     "output_type": "stream",
     "text": [
      "VAI ESTUDAR!!!\n"
     ]
    }
   ],
   "source": [
    "\n",
    "idade = int(input(\"verifique se é maior ou menor  de idade\"))\n",
    "\n",
    "if idade >=18:\n",
    "    print(\"JÁ PODE DIRIGIR\")\n",
    "else:\n",
    "    print(\"VAI ESTUDAR!!!\")"
   ]
  },
  {
   "cell_type": "code",
   "execution_count": 20,
   "id": "dd3af630",
   "metadata": {},
   "outputs": [
    {
     "name": "stdout",
     "output_type": "stream",
     "text": [
      "senha incorrta\n"
     ]
    }
   ],
   "source": [
    "senha_digitada = (input(\"informe a senha \"))\n",
    "senha_correta = \"2060\"\n",
    "\n",
    "if senha_digitada == senha_correta:\n",
    "    print(\"senha correta!\")\n",
    "else:\n",
    "    print(\"senha incorrta\")"
   ]
  },
  {
   "cell_type": "markdown",
   "id": "393cf811",
   "metadata": {},
   "source": [
    "### DESAFIO FINAL"
   ]
  },
  {
   "cell_type": "code",
   "execution_count": 27,
   "id": "ea307fbd",
   "metadata": {},
   "outputs": [
    {
     "name": "stdout",
     "output_type": "stream",
     "text": [
      "ja pode realizar\n"
     ]
    }
   ],
   "source": [
    "# peça ao usuario que informe o quanto ele tem de dinheiro\n",
    "# peça para o usuario quanto custa o sonho dele \n",
    "# SE o quanto o usuario tem for = ao preço do sonho print(\"ja pode realizar seu sonho\"),SE NÃO print(\"nao pode realizar seu sonho ainda \")\n",
    "dinheiro_usuario = float(input(\"quanto voce tem \"))\n",
    "valor_sonho = float(input(\"valor do seu sonho\"))\n",
    "\n",
    "if dinheiro_usuario >= valor_sonho:\n",
    " print(\"ja pode realizar\")\n",
    "else:\n",
    " print(\"talvez mais pra frente \")"
   ]
  },
  {
   "cell_type": "markdown",
   "id": "2d07d03f",
   "metadata": {},
   "source": [
    "### LOJA DE BEBIDAS\n"
   ]
  },
  {
   "cell_type": "code",
   "execution_count": 5,
   "id": "1c5680e2",
   "metadata": {},
   "outputs": [
    {
     "name": "stdout",
     "output_type": "stream",
     "text": [
      " seja bem vindo!!\n",
      "já tem a idade ideal\n"
     ]
    }
   ],
   "source": [
    "#verificar se a pessoa é maior ou menor de idade para comprar bebidas\n",
    "\n",
    "print(\" seja bem vindo!!\")\n",
    "\n",
    "idade = int(input(\" informe a idade\"))\n",
    "\n",
    "if idade >= 18:\n",
    "    print(\"já tem a idade ideal\")\n",
    "else:\n",
    "    print(\"ainda não tem idade ainda\")\n"
   ]
  },
  {
   "cell_type": "markdown",
   "id": "28f6e874",
   "metadata": {},
   "source": [
    "### CALCULE A MEDIA MELHORADA"
   ]
  },
  {
   "cell_type": "code",
   "execution_count": 20,
   "id": "af3808ca",
   "metadata": {},
   "outputs": [
    {
     "name": "stdout",
     "output_type": "stream",
     "text": [
      "nota, resultados finais \n",
      " você está de recuperação\n"
     ]
    }
   ],
   "source": [
    "\n",
    "print(\"nota, resultados finais \")\n",
    "\n",
    "\n",
    "nota = int(input(\"informe a sua nota \"))\n",
    "\n",
    "if nota >=6:\n",
    "    print(\"PARABÉNS!!pela sua nota\")\n",
    "elif nota ==4:\n",
    "    print(\" você está de recuperação\")\n",
    "else:\n",
    "    print(\"poxaa,você foi reprovado\")\n"
   ]
  },
  {
   "cell_type": "markdown",
   "id": "997f98eb",
   "metadata": {},
   "source": [
    "### MEDIDOR DE TEMPERATURA"
   ]
  },
  {
   "cell_type": "code",
   "execution_count": 53,
   "id": "d158e735",
   "metadata": {},
   "outputs": [
    {
     "name": "stdout",
     "output_type": "stream",
     "text": [
      "temperaturas\n",
      "frio\n"
     ]
    }
   ],
   "source": [
    "print(\"temperaturas\")\n",
    "\n",
    "\n",
    "temperatura = int(input(\"informe a temperatura \"))\n",
    "\n",
    "if temperatura >=30:\n",
    "    print(\"calor extremo\")\n",
    "elif temperatura ==20:\n",
    "    print(\"temperatura agradável\")\n",
    "else:\n",
    "    print(\"frio\")\n"
   ]
  },
  {
   "cell_type": "markdown",
   "id": "c8e7ec91",
   "metadata": {},
   "source": [
    "### TIPOS DE CARRO\n"
   ]
  },
  {
   "cell_type": "code",
   "execution_count": 56,
   "id": "e9ad38c1",
   "metadata": {},
   "outputs": [
    {
     "name": "stdout",
     "output_type": "stream",
     "text": [
      "carros tops\n",
      "Carro ruim !!\n"
     ]
    }
   ],
   "source": [
    "print(\"carros tops\")\n",
    "\n",
    "carro = (input(\"informe um carro\"))\n",
    "\n",
    "carro_top = \"mclarem\"\n",
    "carro_rasuavel = \"gol\"\n",
    "carro_bom = \"hb20\"\n",
    "\n",
    "if carro == carro_top:\n",
    "    print(\"um carro bem top\")\n",
    "\n",
    "elif carro == carro_rasuavel:\n",
    "    print(\" da pro gasto\")\n",
    "\n",
    "elif carro == carro_bom:\n",
    "    print(\"carro bom\")\n",
    "\n",
    "else:\n",
    "    print(\"Carro ruim !!\")\n",
    "    "
   ]
  },
  {
   "cell_type": "markdown",
   "id": "77f8f332",
   "metadata": {},
   "source": [
    "### CONTATINHO"
   ]
  },
  {
   "cell_type": "code",
   "execution_count": null,
   "id": "6ef6410d",
   "metadata": {},
   "outputs": [
    {
     "name": "stdout",
     "output_type": "stream",
     "text": [
      "qual o seu nome??\n",
      " amor da minha vidaa\n"
     ]
    }
   ],
   "source": [
    "print(\"qual o seu nome??\")\n",
    "\n",
    "nome = input(\"digite seu nome\")\n",
    "numero_telefone = int(input(\"qual seu número??\"))\n",
    "nome_contatinho = \"segredo\"\n",
    "\n",
    "if nome== nome_contatinho:\n",
    "    print(\" amor da minha vidaa\")\n",
    "else:\n",
    "    print(\"não te quero amigo\")"
   ]
  },
  {
   "cell_type": "code",
   "execution_count": 10,
   "id": "e6e5323f",
   "metadata": {},
   "outputs": [
    {
     "name": "stdout",
     "output_type": "stream",
     "text": [
      "qual o seu nome??\n",
      "não te quero amigo\n"
     ]
    }
   ],
   "source": [
    "print(\"qual o seu nome??\")\n",
    "\n",
    "nome = input(\"digite seu nome\")\n",
    "numero_telefone = int(input(\"qual seu número??\"))\n",
    "nome_contatinho = input(\"informe o nome do contatinho\")\n",
    "\n",
    "if nome== nome_contatinho:\n",
    "    print(\" amor da minha vidaa\")\n",
    "else:\n",
    "    print(\"não te quero amigo\")"
   ]
  },
  {
   "cell_type": "markdown",
   "id": "8a788299",
   "metadata": {},
   "source": [
    "### desafio"
   ]
  },
  {
   "cell_type": "code",
   "execution_count": 8,
   "id": "4459a0a6",
   "metadata": {},
   "outputs": [
    {
     "name": "stdout",
     "output_type": "stream",
     "text": [
      "não se preocupe\n"
     ]
    }
   ],
   "source": [
    "idade = int(input(\"digite a idade\"))\n",
    "\n",
    "if idade == 17 or idade ==18:\n",
    "    print(\"vai se alistar meu querido\")\n",
    "elif idade>18:\n",
    "    print(\"se não se alistar paga multa\")\n",
    "else:\n",
    "    print(\"não se preocupe\")"
   ]
  },
  {
   "cell_type": "markdown",
   "id": "3570ede2",
   "metadata": {},
   "source": [
    "### Controle de Estoque"
   ]
  },
  {
   "cell_type": "code",
   "execution_count": 3,
   "id": "e6fa5760",
   "metadata": {},
   "outputs": [
    {
     "name": "stdout",
     "output_type": "stream",
     "text": [
      "compre agoraa, o estoque do produto pente ta acabando\n"
     ]
    }
   ],
   "source": [
    "nome_produto = input(\"digite o nome do produto\")\n",
    "quantidade = int(input(\"digite uma quantidade\"))\n",
    "\n",
    "if quantidade == 0:\n",
    "    print(f\"compre agoraa, o estoque do produto {nome_produto} ta acabando\")\n",
    "elif quantidade <10:\n",
    "    print(f\"o produto {nome_produto} esta quase acabando\")\n",
    "\n",
    "elif quantidade >30:\n",
    "    print(f\"produto {nome_produto} em extrema quantidade, não precisa comprar\")\n",
    "\n",
    "else:\n",
    "    print(f\"o produto {nome_produto} esta em quantidade normal\")\n",
    "\n"
   ]
  },
  {
   "cell_type": "markdown",
   "id": "352444ec",
   "metadata": {},
   "source": [
    "### CALCULADORA BÁSICA"
   ]
  },
  {
   "cell_type": "code",
   "execution_count": 22,
   "id": "9ee2a1df",
   "metadata": {},
   "outputs": [
    {
     "name": "stdout",
     "output_type": "stream",
     "text": [
      " o resultado da multiplicacao 18\n"
     ]
    }
   ],
   "source": [
    "numero1 = int(input(\"digite algum numero\"))\n",
    "numero2 = int(input(\"digite algum numero\"))\n",
    "operacao = input(\"digite a operação\")\n",
    "\n",
    "if operacao == \"soma\" or operacao == \"+\":\n",
    "    soma = numero1 + numero2\n",
    "    print(f\"o resultado da soma é {soma}\")\n",
    "elif operacao == \"subtrair\" or operacao == \"-\":\n",
    "    subtrair = numero1 - numero2\n",
    "    print(f\" o resultado da subtraçao {subtrair}\")\n",
    "elif operacao == \"multificacao\" or operacao == \"*\":\n",
    "    multiplicacao = numero1 * numero2\n",
    "    print(f\" o resultado da multiplicacao {multiplicacao}\")\n",
    "elif operacao == \"dividir\" or operacao == \"/\":\n",
    "    dividir = numero1 / numero2\n",
    "    print(f\"o resultado da sua divisao {dividir}\")\n",
    "else:\n",
    "    print(\"acho q vc fez algo de errado\")\n",
    "    "
   ]
  },
  {
   "cell_type": "markdown",
   "id": "b06acf81",
   "metadata": {},
   "source": [
    "### DIAS DA SEMANA"
   ]
  },
  {
   "cell_type": "code",
   "execution_count": 21,
   "id": "447d333c",
   "metadata": {},
   "outputs": [
    {
     "name": "stdout",
     "output_type": "stream",
     "text": [
      "hoje é sabadooooooo!!!\n"
     ]
    }
   ],
   "source": [
    "\n",
    "dia_semana = int(input(\"um numero de 1 a 7\"))\n",
    "\n",
    "if dia_semana == 1:\n",
    "    print(\"hoje é domingo\")\n",
    "elif dia_semana == 2:\n",
    "    print(\"hoje é segunda\")\n",
    "elif dia_semana == 3:\n",
    "    print(\"hoje é terça\")\n",
    "\n",
    "elif dia_semana == 4:\n",
    "    print(\"hoje é quarta\")\n",
    "\n",
    "elif dia_semana == 5:\n",
    "    print(\"hoje é quinta\")\n",
    "\n",
    "elif dia_semana == 6:\n",
    "    print(\"hoje é sextaaaaaaaaaaaa!!!\")\n",
    "\n",
    "elif dia_semana == 7:\n",
    "    print(\"hoje é sabadooooooo!!!\")\n",
    "\n",
    "else:\n",
    "    print(\"esse dia não existe\")\n",
    "\n",
    "\n",
    "\n",
    "\n"
   ]
  },
  {
   "cell_type": "markdown",
   "id": "e3a98396",
   "metadata": {},
   "source": [
    "### SISTEMA DE LOGIN"
   ]
  },
  {
   "cell_type": "code",
   "execution_count": 11,
   "id": "41504521",
   "metadata": {},
   "outputs": [
    {
     "name": "stdout",
     "output_type": "stream",
     "text": [
      "Erro: usuário ou senha incorretos. tente novamente.\n",
      "\n",
      "bem vindo ao sistema\n"
     ]
    }
   ],
   "source": [
    "nome_certo = \"viih\"\n",
    "senha_certa = \"2060\"\n",
    "acertou= False\n",
    "\n",
    "\n",
    "while not acertou: \n",
    "    nome_usuario = input(\"informe o nome do seu usuario\")\n",
    "    senha_usuario = input(\"informe sua senha\")\n",
    "\n",
    "    if nome_certo == nome_usuario and senha_usuario == senha_certa:\n",
    "        print(\"bem vindo ao sistema\")\n",
    "        acertou = True\n",
    "\n",
    "    else: print(\"Erro: usuário ou senha incorretos. tente novamente.\\n\") \n"
   ]
  },
  {
   "cell_type": "markdown",
   "id": "9b44ac28",
   "metadata": {},
   "source": [
    "### CONTATINHO MELHORADO"
   ]
  },
  {
   "cell_type": "code",
   "execution_count": 2,
   "id": "9c22fc64",
   "metadata": {},
   "outputs": [
    {
     "name": "stdout",
     "output_type": "stream",
     "text": [
      "bem vindo meu bem\n"
     ]
    }
   ],
   "source": [
    "nome_contatinho = \"vi\"\n",
    "numero_contatinho = \"707070\"\n",
    "acertou= False\n",
    " \n",
    "while not acertou:\n",
    "   nome_crush = input(\"digite o nome do amor da sua vida\")\n",
    "   numero_crush =(input(\"digite o numero do amor da sua vida\"))\n",
    "\n",
    "   if nome_contatinho == nome_crush and numero_contatinho == numero_crush:\n",
    "     print(\"bem vindo meu bem\")\n",
    "     acertou = True \n",
    "\n",
    "   else:\n",
    "      print(\"ERRO: você não é meu amor, SAI FORAAAAAAAA\")\n",
    "\n",
    "        \n",
    "     \n"
   ]
  },
  {
   "cell_type": "markdown",
   "id": "2eb1f317",
   "metadata": {},
   "source": [
    "### RECOMENDAÇÃO DE FILMES"
   ]
  },
  {
   "cell_type": "code",
   "execution_count": 1,
   "id": "8d6fcaae",
   "metadata": {},
   "outputs": [
    {
     "name": "stdout",
     "output_type": "stream",
     "text": [
      "operação invalida, temte novamente!!\n"
     ]
    }
   ],
   "source": [
    "genero = input(\"qual genero de filme você prefere?\")\n",
    "humor = input(\"como está seu humor?\")\n",
    "\n",
    "\n",
    "\n",
    "if genero == \"Ação\" and humor == \"Feliz\":\n",
    "    print(\"Homen aranha!!\")\n",
    "\n",
    "elif genero == \"Ação\" and humor == \"Neutro\":\n",
    "    print(\"john wick!!\")\n",
    "\n",
    "elif  genero == \"Ação\" and humor == \"estress\":\n",
    "      print(\"duro de matar\")\n",
    "\n",
    "elif genero == \"comédia\" and humor == \"feliz\":\n",
    "      print(\"superbad\") \n",
    "\n",
    "elif genero == \"comédia\" and humor == \"neutro\":\n",
    "      print(\"escola do rock\")\n",
    "\n",
    "elif genero == \"comédia\" and humor == \"estress\":\n",
    "     print(\"se beber, não case\")        \n",
    "\n",
    "elif genero == \"terror\" and humor == \"feliz\":\n",
    "     print(\"culpa mia\")\n",
    "\n",
    "elif genero == \"terror\" and humor == \"neutro\":\n",
    "     print(\"invocação do mal\")\n",
    "\n",
    "elif genero == \"terror\" and humor == \"estress\":\n",
    "     print(\"o iluminado\")     \n",
    "\n",
    "else:\n",
    "     print(\"operação invalida, temte novamente!!\")     "
   ]
  },
  {
   "cell_type": "markdown",
   "id": "0443d00a",
   "metadata": {},
   "source": [
    "### RECOMENDAÇÃO DE JOGOS"
   ]
  },
  {
   "cell_type": "code",
   "execution_count": 6,
   "id": "6d6fc1b4",
   "metadata": {},
   "outputs": [
    {
     "name": "stdout",
     "output_type": "stream",
     "text": [
      "ja esta jogando por horas, CHEGAAAA!!\n"
     ]
    }
   ],
   "source": [
    "genero = input(\"qual seu gênero de jogo preferido?\")\n",
    "tempo = input(\"tempo disponivel para jogar\")  \n",
    "\n",
    "if genero == \"fps\" and tempo == \"1h\":\n",
    "    print(\"valorant\")\n",
    "\n",
    "elif genero == \"fps\" and tempo == \"2-3h\":\n",
    "    print(\"call of duty: warzone\")\n",
    "\n",
    "elif genero == \"fps\" and tempo == \"4h+\":\n",
    "    print(\"counter-strike\")\n",
    "\n",
    "elif genero == \"rpg\" and tempo == \"1h\":\n",
    "    print(\"stardew valley\")\n",
    "\n",
    "elif genero == \"rpg\" and tempo == \"2-3h\":\n",
    "    print(\"the witcher3\")\n",
    "\n",
    "elif genero == \"rpg\" and tempo == \"4h+\":\n",
    "    print(\"elden ring\")          \n",
    "\n",
    "elif genero == \"esportes\" and tempo == \"1h\":\n",
    "    print(\"rocket league\")\n",
    "\n",
    "elif genero == \"esportes\" and tempo == \"2-3h\":\n",
    "    print(\"fifa24\")\n",
    "\n",
    "elif genero == \"esportes\" and tempo == \"4h+\":\n",
    "    print(\"nba 2k24\")\n",
    "\n",
    "else: \n",
    "    print(\"ja esta jogando por horas, CHEGAAAA!!\")    "
   ]
  }
 ],
 "metadata": {
  "kernelspec": {
   "display_name": "Python 3",
   "language": "python",
   "name": "python3"
  },
  "language_info": {
   "codemirror_mode": {
    "name": "ipython",
    "version": 3
   },
   "file_extension": ".py",
   "mimetype": "text/x-python",
   "name": "python",
   "nbconvert_exporter": "python",
   "pygments_lexer": "ipython3",
   "version": "3.13.2"
  }
 },
 "nbformat": 4,
 "nbformat_minor": 5
}
