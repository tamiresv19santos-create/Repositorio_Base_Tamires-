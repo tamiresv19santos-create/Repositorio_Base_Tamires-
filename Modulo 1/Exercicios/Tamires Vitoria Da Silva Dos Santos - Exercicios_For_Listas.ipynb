{
 "cells": [
  {
   "cell_type": "markdown",
   "id": "d2b6c514",
   "metadata": {},
   "source": [
    "### 🚀 Exercícios Melhorados de Python: Listas e Loops for"
   ]
  },
  {
   "cell_type": "markdown",
   "id": "44a3875e",
   "metadata": {},
   "source": [
    "### 🔍 1. Filtro de Filmes por Gênero 🎬\n",
    "\n",
    "Desafio:\n",
    "\n",
    "Crie um loop for para percorrer a lista de filmes e de gêneros e depois mostre na tela apenas os filmes de ação."
   ]
  },
  {
   "cell_type": "code",
   "execution_count": 2,
   "id": "365515ab",
   "metadata": {},
   "outputs": [
    {
     "name": "stdout",
     "output_type": "stream",
     "text": [
      "Vingadores : Ultimato\n",
      "Velozes e Furiosos\n",
      "Missão Impossível\n"
     ]
    }
   ],
   "source": [
    "filmes = [\"O Poderoso Chefão\", \"Vingadores : Ultimato\", \"Toy Story\", \"Velozes e Furiosos\", \"Missão Impossível\", \"De Volta para o Futuro\",\"Zodiaco\"]\n",
    "generos = [\"Drama\", \"Ação\", \"Animação\", \"Ação\",\"Ação\", \"Aventura\", \"Suspense\"]\n",
    "\n",
    "### Seu código aqui\n",
    "\n",
    "for i in range(len(filmes)):\n",
    "    if generos [i]  == \"Ação\":\n",
    "        print(filmes[i])"
   ]
  },
  {
   "cell_type": "markdown",
   "id": "4def914a",
   "metadata": {},
   "source": [
    "Agora crie um código que verfique a nota de cada filme e recomende para o usuário os filmes com notas superioes a 7.0"
   ]
  },
  {
   "cell_type": "code",
   "execution_count": null,
   "id": "3732a81f",
   "metadata": {},
   "outputs": [],
   "source": []
  },
  {
   "cell_type": "code",
   "execution_count": null,
   "id": "7258214d",
   "metadata": {},
   "outputs": [],
   "source": []
  },
  {
   "cell_type": "code",
   "execution_count": null,
   "id": "d1e81b12",
   "metadata": {},
   "outputs": [],
   "source": []
  },
  {
   "cell_type": "code",
   "execution_count": null,
   "id": "bd585d2f",
   "metadata": {},
   "outputs": [],
   "source": []
  },
  {
   "cell_type": "code",
   "execution_count": null,
   "metadata": {},
   "outputs": [],
   "source": []
  },
  {
   "cell_type": "code",
   "execution_count": null,
   "metadata": {},
   "outputs": [],
   "source": [
    "aut.mouseInfo()\n"
   ]
  },
  {
   "cell_type": "code",
   "execution_count": null,
   "id": "1ff710f0",
   "metadata": {},
   "outputs": [],
   "source": []
  },
  {
   "cell_type": "code",
   "execution_count": null,
   "metadata": {},
   "outputs": [],
   "source": []
  },
  {
   "cell_type": "code",
   "execution_count": null,
   "metadata": {},
   "outputs": [],
   "source": [
    "aut.mouseInfo()\n"
   ]
  },
  {
   "cell_type": "code",
   "execution_count": null,
   "id": "49c7e0a3",
   "metadata": {},
   "outputs": [],
   "source": []
  },
  {
   "cell_type": "code",
   "execution_count": null,
   "metadata": {},
   "outputs": [],
   "source": []
  },
  {
   "cell_type": "code",
   "execution_count": null,
   "metadata": {},
   "outputs": [],
   "source": [
    "aut.mouseInfo()\n"
   ]
  },
  {
   "cell_type": "code",
   "execution_count": 7,
   "id": "52470059",
   "metadata": {},
   "outputs": [
    {
     "name": "stdout",
     "output_type": "stream",
     "text": [
      " filmes recomendados:\n",
      " Os filmes O Poderoso Chefão do genero Drama tiveram nota maior que 7\n",
      " Os filmes Vingadores : Ultimato do genero Ação tiveram nota maior que 7\n",
      " Os filmes Toy Story do genero Animação tiveram nota maior que 7\n",
      " Os filmes Missão Impossível do genero Ação tiveram nota maior que 7\n",
      " Os filmes De Volta para o Futuro do genero Aventura tiveram nota maior que 7\n",
      " Os filmes Zodiaco do genero Suspense tiveram nota maior que 7\n"
     ]
    }
   ],
   "source": [
    "filmes = [\"O Poderoso Chefão\", \"Vingadores : Ultimato\", \"Toy Story\", \"Velozes e Furiosos\", \"Missão Impossível\", \"De Volta para o Futuro\", \"Zodiaco\", \"Thunderbolts\"]\n",
    "generos = [\"Drama\", \"Ação\", \"Animação\", \"Ação\",\"Ação\", \"Aventura\", \"Suspense\"]\n",
    "notas_filmes = [9.0, 9.5, 10, 5.2, 8.0, 10, 9.8, 5.5]\n",
    "\n",
    "### Seu código aqui\n",
    " \n",
    "print(\" filmes recomendados:\")\n",
    "for i in range(len(filmes)):\n",
    "    if notas_filmes[i]> 7.0:\n",
    "        print(f\" Os filmes {filmes[i]} do genero {generos [i]} tiveram nota maior que 7\")"
   ]
  },
  {
   "cell_type": "markdown",
   "id": "4fca3773",
   "metadata": {},
   "source": [
    "### 🎯 2. Jogo de Adivinhação com Dicas �"
   ]
  },
  {
   "cell_type": "markdown",
   "id": "03b72809",
   "metadata": {},
   "source": [
    "Crie um jogo onde:\n",
    "\n",
    "✅ O programa escolhe uma palavra secreta aleatória de uma lista (ex: [\"banana\", \"abacaxi\", \"morango\"]).\n",
    "\n",
    "\n",
    "✅ O usuário tem 3 tentativas para adivinhar.\n",
    "\n",
    "\n",
    "\n",
    "✅ A cada erro, o programa dá uma dica (ex: \"Tem [x] letras\" ou \"Começa com [letra]\").\n",
    "\n",
    "\n",
    "\n",
    "\n",
    "✅ Use um loop for para controlar as tentativas e, se acertar, imprima \"🎉 Você ganhou! A palavra era [X]\".\n",
    "\n"
   ]
  },
  {
   "cell_type": "code",
   "execution_count": 13,
   "id": "ae165f8c",
   "metadata": {},
   "outputs": [
    {
     "name": "stdout",
     "output_type": "stream",
     "text": [
      "parabéns voce conseguiu 🎉, a palavra era morango \n"
     ]
    }
   ],
   "source": [
    "palavras_secretas = [\"banana\", \"abacaxi\", \"morango\", \"Tecknológia\"]\n",
    "palavra = palavras_secretas[2]\n",
    "\n",
    "tentativas = 3\n",
    " \n",
    "\n",
    "for i in range(tentativas):\n",
    "    chute = input(\"adivinhe a palavra:\").lower()\n",
    "    if chute == palavra:\n",
    "        print(f\"parabéns voce conseguiu 🎉, a palavra era {palavra} \")\n",
    "        break\n",
    "    else:\n",
    "        print(\"voce errou!!!! tente novamente\") \n",
    "        print(\"voce tem mais alguamas tentativas\") \n",
    "\n",
    "\n",
    "\n",
    "\n",
    "### Seu código\n",
    "\n",
    "### Tentativas\n",
    "\n",
    "### Looping for\n",
    "\n",
    "\n",
    "\n",
    "\n",
    "\n"
   ]
  },
  {
   "cell_type": "markdown",
   "id": "8c04f1b7",
   "metadata": {},
   "source": [
    "### 📊 3. Análise de Dados de Redes Sociais 📱"
   ]
  },
  {
   "cell_type": "markdown",
   "id": "939eeec4",
   "metadata": {},
   "source": [
    "Você tem uma lista de likes por postagem:\n",
    "\n",
    "Desafio:\n",
    "\n",
    "Calcule a média de likes.\n",
    "\n",
    "\n",
    "Identifique quantos posts estão acima da média e print:\n",
    "\n",
    "\n",
    "\"📈 [X] posts bombaram (+ que [média] likes)\""
   ]
  },
  {
   "cell_type": "code",
   "execution_count": null,
   "id": "5b380686",
   "metadata": {},
   "outputs": [
    {
     "name": "stdout",
     "output_type": "stream",
     "text": [
      "✅Carlinhos Maia bombou(+ que 164.0l likes)\n",
      "✅Poze bombou(+ que 164.0l likes)\n",
      "✅Zé Felipe bombou(+ que 164.0l likes)\n"
     ]
    }
   ],
   "source": [
    "## Nome dos influencers\n",
    "influencers = [\"Virginia\", \"Carlinhos Maia\", \"Deolane\", \"Poze\", \"Matheus Costa\",\"Zé Felipe\"]\n",
    "### likes por post\n",
    "like_posts = [120, 245, 89, 310, 42, 178] \n",
    "## Calcula o total de likes da lista\n",
    "total_likes = sum(like_posts)\n",
    "\n",
    "# Sua vez calcule á media de likes\n",
    "\n",
    "# Depois veja qual influencer teve likes acima da média\n",
    "\n",
    "media = total_likes / len(like_posts)\n",
    "\n",
    "for i in range(len(like_posts)):\n",
    "    if like_posts[i] > media:\n",
    "        print (f\"✅{influencers[i]} bombou(+ que {media}l likes)\")\n"
   ]
  },
  {
   "cell_type": "markdown",
   "id": "be62fb3a",
   "metadata": {},
   "source": [
    "### 🔢 4. Criptografia Simples 🔐\n",
    "Crie um sistema que:\n",
    "\n",
    "\n",
    "✅ Pega uma frase do usuário (ex: \"Eu amo Python\").\n",
    "\n",
    "\n",
    "✅ Converte cada letra em seu código substituindo por um número (vai precisar usar o replace).\n",
    "\n",
    "\n",
    "✅ Armazena os códigos em uma lista e imprime:\n",
    "\"🔒 Mensagem criptografada: [lista_de_codigos]\"\n",
    "\n",
    "\n",
    "✅ Bônus: Faça o processo inverso (descriptografar)."
   ]
  },
  {
   "cell_type": "code",
   "execution_count": null,
   "id": "14cc8c76",
   "metadata": {},
   "outputs": [],
   "source": [
    "### Seu código aqui\n",
    "\n",
    "### PULA IGNORA\n"
   ]
  },
  {
   "cell_type": "markdown",
   "id": "d7cfa84f",
   "metadata": {},
   "source": [
    "### 🎯 Bônus Extra: Desafio dos Emojis Aleatórios\n",
    "\n",
    "✅ Gere uma lista de 10 emojis aleatórios (use [\"🐍\", \"🔥\", \"🎮\", \"👾\", \"🚀\"]) e:\n",
    "\n",
    "✅ Conte quantas vezes \"🔥\" aparece.\n",
    "\n",
    "\n",
    "✅ Substitua \"🎮\" por \"💻\".\n",
    "\n",
    "\n",
    "✅ Print a lista final."
   ]
  },
  {
   "cell_type": "code",
   "execution_count": 4,
   "id": "28ab2513",
   "metadata": {},
   "outputs": [
    {
     "name": "stdout",
     "output_type": "stream",
     "text": [
      "4\n",
      "['🐍', '🔥', '💻', '👾', '🚀', '🔥', '🔥', '🔥', '🔥🔥🔥🔥🔥🔥🔥🔥🔥🔥🔥🔥🔥🔥🔥🔥🔥🔥🔥🔥🔥🔥🔥🔥🔥🔥🔥🔥🔥🔥🔥🔥🔥🔥🔥🔥🔥🔥🔥🔥🔥🔥', '🔥🔥🔥🔥🔥🔥', '🔥🔥', '🔥🔥🔥🔥🔥🔥🔥🔥🔥🔥🔥🔥🔥🔥🔥🔥🔥🔥🔥🔥🔥🔥🔥🔥🔥🔥🔥🔥🔥🔥🔥🔥🔥🔥🔥🔥🔥🔥🔥🔥🔥🔥']\n"
     ]
    }
   ],
   "source": [
    "lista_emoji  = [\"🐍\", \"🔥\", \"🎮\", \"👾\", \"🚀\",\"🔥\",\"🔥\",\"🔥\",\"🔥🔥🔥🔥🔥🔥🔥🔥🔥🔥🔥🔥🔥🔥🔥🔥🔥🔥🔥🔥🔥🔥🔥🔥🔥🔥🔥🔥🔥🔥🔥🔥🔥🔥🔥🔥🔥🔥🔥🔥🔥🔥\",\"🔥🔥🔥🔥🔥🔥\",\"🔥🔥\",\"🔥🔥🔥🔥🔥🔥🔥🔥🔥🔥🔥🔥🔥🔥🔥🔥🔥🔥🔥🔥🔥🔥🔥🔥🔥🔥🔥🔥🔥🔥🔥🔥🔥🔥🔥🔥🔥🔥🔥🔥🔥🔥\"]\n",
    "\n",
    "contador = lista_emoji.count(\"🔥\")\n",
    "print(contador)\n",
    "lista_emoji[2] = \"💻\"\n",
    "print(lista_emoji)\n"
   ]
  }
 ],
 "metadata": {
  "kernelspec": {
   "display_name": "Python 3",
   "language": "python",
   "name": "python3"
  },
  "language_info": {
   "codemirror_mode": {
    "name": "ipython",
    "version": 3
   },
   "file_extension": ".py",
   "mimetype": "text/x-python",
   "name": "python",
   "nbconvert_exporter": "python",
   "pygments_lexer": "ipython3",
   "version": "3.13.2"
  }
 },
 "nbformat": 4,
 "nbformat_minor": 5
}
