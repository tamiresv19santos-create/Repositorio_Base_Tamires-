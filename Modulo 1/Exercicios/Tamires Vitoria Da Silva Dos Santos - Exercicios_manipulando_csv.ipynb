{
 "cells": [
  {
   "cell_type": "markdown",
   "id": "6c085d48",
   "metadata": {},
   "source": [
    "### Lista de Exercícios Básicos de Manipulação de Arquivos CSV\n",
    "\n",
    "Aqui está uma lista de exercícios progressivos para praticar manipulação de arquivos CSV em Python."
   ]
  },
  {
   "cell_type": "markdown",
   "id": "7e788390",
   "metadata": {},
   "source": [
    "Exercício 1: Criando um arquivo CSV simples\n",
    "\n",
    "Crie um arquivo chamado alunos.csv com os seguintes dados:\n",
    "\n",
    "Nome,Idade,Nota\n",
    "\n",
    "\n",
    "Ana,17,8.5\n",
    "\n",
    "\n",
    "João,16,7.0\n",
    "\n",
    "\n",
    "Maria,18,9.0"
   ]
  },
  {
   "cell_type": "code",
   "execution_count": null,
   "id": "d74802d2",
   "metadata": {},
   "outputs": [],
   "source": [
    "import csv"
   ]
  },
  {
   "cell_type": "markdown",
   "id": "1801190f",
   "metadata": {},
   "source": [
    "Exercício 2: Lendo um arquivo CSV\n",
    "\n",
    "Leia o arquivo alunos.csv e mostre todos os dados na tela."
   ]
  },
  {
   "cell_type": "code",
   "execution_count": 2,
   "id": "d9f2b6da",
   "metadata": {},
   "outputs": [
    {
     "ename": "NameError",
     "evalue": "name 'csv' is not defined",
     "output_type": "error",
     "traceback": [
      "\u001b[31m---------------------------------------------------------------------------\u001b[39m",
      "\u001b[31mNameError\u001b[39m                                 Traceback (most recent call last)",
      "\u001b[36mCell\u001b[39m\u001b[36m \u001b[39m\u001b[32mIn[2]\u001b[39m\u001b[32m, line 13\u001b[39m\n\u001b[32m      8\u001b[39m \u001b[38;5;66;03m# Abrimos o arquivo em modo escrita ('w'), com encoding e newline=''\u001b[39;00m\n\u001b[32m      9\u001b[39m \u001b[38;5;28;01mwith\u001b[39;00m \u001b[38;5;28mopen\u001b[39m(\u001b[33m\"\u001b[39m\u001b[33malunos.csv\u001b[39m\u001b[33m\"\u001b[39m, \u001b[33m\"\u001b[39m\u001b[33mw\u001b[39m\u001b[33m\"\u001b[39m, newline=\u001b[33m'\u001b[39m\u001b[33m'\u001b[39m, encoding=\u001b[33m\"\u001b[39m\u001b[33mutf-8\u001b[39m\u001b[33m\"\u001b[39m) \u001b[38;5;28;01mas\u001b[39;00m arquivo:\n\u001b[32m     10\u001b[39m \n\u001b[32m     11\u001b[39m     \u001b[38;5;66;03m# Criamos o objeto 'writer', que é um ESCRITOR de arquivos CSV.\u001b[39;00m\n\u001b[32m     12\u001b[39m     \u001b[38;5;66;03m# Ele é responsável por transformar listas em linhas no arquivo CSV.\u001b[39;00m\n\u001b[32m---> \u001b[39m\u001b[32m13\u001b[39m     escritor = \u001b[43mcsv\u001b[49m.writer(arquivo)\n\u001b[32m     15\u001b[39m     \u001b[38;5;66;03m# Escreve todas as linhas da lista 'dados' de uma vez, .writerows é um método do objeto escritor (writer)\u001b[39;00m\n\u001b[32m     16\u001b[39m     escritor.writerows(dados)\n",
      "\u001b[31mNameError\u001b[39m: name 'csv' is not defined"
     ]
    }
   ],
   "source": [
    "dados = [\n",
    "    [\"nome\", \"idade\", \"nota\"],\n",
    "    [\"Ana\", 17, 8.5],\n",
    "    [\"João\", 25, 7.0],\n",
    "    [\"Maria\", 18, 9.0]\n",
    "]\n",
    "\n",
    "# Abrimos o arquivo em modo escrita ('w'), com encoding e newline=''\n",
    "with open(\"alunos.csv\", \"w\", newline='', encoding=\"utf-8\") as arquivo:\n",
    "    \n",
    "    # Criamos o objeto 'writer', que é um ESCRITOR de arquivos CSV.\n",
    "    # Ele é responsável por transformar listas em linhas no arquivo CSV.\n",
    "    escritor = csv.writer(arquivo)\n",
    "    \n",
    "    # Escreve todas as linhas da lista 'dados' de uma vez, .writerows é um método do objeto escritor (writer)\n",
    "    escritor.writerows(dados)"
   ]
  },
  {
   "cell_type": "markdown",
   "id": "1c230648",
   "metadata": {},
   "source": [
    "Exercício 3: Adicionando um novo aluno\n",
    "\n",
    "Peça ao usuário para digitar os dados de um novo aluno e adicione-o ao arquivo CSV."
   ]
  },
  {
   "cell_type": "code",
   "execution_count": null,
   "id": "41891bb5",
   "metadata": {},
   "outputs": [],
   "source": []
  },
  {
   "cell_type": "markdown",
   "id": "90ceb918",
   "metadata": {},
   "source": [
    "Exercício 4: Calculando a média das notas\n",
    "\n",
    "Calcule e mostre a média das notas de todos os alunos."
   ]
  },
  {
   "cell_type": "code",
   "execution_count": null,
   "id": "121ec765",
   "metadata": {},
   "outputs": [],
   "source": []
  },
  {
   "cell_type": "markdown",
   "id": "cb646ca2",
   "metadata": {},
   "source": [
    "Exercício 5: Filtrando alunos\n",
    "\n",
    "Mostre apenas os alunos com nota maior ou igual a 8.0."
   ]
  },
  {
   "cell_type": "code",
   "execution_count": null,
   "id": "7b9a839d",
   "metadata": {},
   "outputs": [],
   "source": []
  },
  {
   "cell_type": "markdown",
   "id": "56736dca",
   "metadata": {},
   "source": [
    "Exercício 6: Criando um dicionário de alunos\n",
    "\n",
    "Leia o arquivo CSV usando csv.DictReader e mostre os dados como dicionários."
   ]
  },
  {
   "cell_type": "code",
   "execution_count": null,
   "id": "06fdea7c",
   "metadata": {},
   "outputs": [],
   "source": []
  },
  {
   "cell_type": "markdown",
   "id": "3c05675b",
   "metadata": {},
   "source": [
    "Exercício 7: Atualizando notas\n",
    "\n",
    "Aumente em 1.0 a nota de todos os alunos e salve no arquivo alunos_atualizados.csv."
   ]
  },
  {
   "cell_type": "code",
   "execution_count": null,
   "id": "4bd26755",
   "metadata": {},
   "outputs": [],
   "source": []
  },
  {
   "cell_type": "markdown",
   "id": "2987ecdb",
   "metadata": {},
   "source": [
    "Exercício 8: Contando alunos por idade\n",
    "\n",
    "Conte quantos alunos existem em cada idade e mostre o resultado."
   ]
  },
  {
   "cell_type": "code",
   "execution_count": null,
   "id": "35053a80",
   "metadata": {},
   "outputs": [],
   "source": []
  },
  {
   "cell_type": "markdown",
   "id": "7b168846",
   "metadata": {},
   "source": [
    "Exercício 9: Juntando arquivos CSV\n",
    "\n",
    "Crie um novo arquivo turma_completa.csv que combine os dados de alunos.csv e alunos_atualizados.csv (use a nota do arquivo atualizado)."
   ]
  },
  {
   "cell_type": "code",
   "execution_count": null,
   "id": "41d1d918",
   "metadata": {},
   "outputs": [],
   "source": []
  },
  {
   "cell_type": "markdown",
   "id": "4fba760c",
   "metadata": {},
   "source": [
    "### Desafio Final ! 🚨🚨🚨🚨🚨🚨\n",
    "\n",
    "Esse é só para as lendas 😎😎😎\n",
    "\n",
    "Exercício 10: Gerando relatório de desempenho\n",
    "\n",
    "Crie um programa que gera um novo arquivo relatorio.csv com informações agregadas:\n",
    "\n",
    "- Nome do aluno\n",
    "\n",
    "\n",
    "- Nota original\n",
    "\n",
    "\n",
    "- Situação (\"Aprovado\" se nota >= 7.0, \"Recuperação\" se == 5.0, \"Reprovado\" caso contrário)\n",
    "\n"
   ]
  },
  {
   "cell_type": "code",
   "execution_count": null,
   "id": "67bc0a14",
   "metadata": {},
   "outputs": [],
   "source": []
  }
 ],
 "metadata": {
  "kernelspec": {
   "display_name": "Python 3",
   "language": "python",
   "name": "python3"
  },
  "language_info": {
   "codemirror_mode": {
    "name": "ipython",
    "version": 3
   },
   "file_extension": ".py",
   "mimetype": "text/x-python",
   "name": "python",
   "nbconvert_exporter": "python",
   "pygments_lexer": "ipython3",
   "version": "3.13.2"
  }
 },
 "nbformat": 4,
 "nbformat_minor": 5
}
