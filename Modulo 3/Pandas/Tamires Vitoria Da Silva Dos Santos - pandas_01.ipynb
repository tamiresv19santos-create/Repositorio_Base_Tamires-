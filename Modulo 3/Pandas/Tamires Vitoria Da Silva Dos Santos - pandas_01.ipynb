{
 "cells": [
  {
   "cell_type": "markdown",
   "id": "b483dd5d",
   "metadata": {},
   "source": [
    "# Primeiros passos com Pandas"
   ]
  },
  {
   "cell_type": "markdown",
   "id": "efb29248",
   "metadata": {},
   "source": [
    "Para instalar o Pandas rode no terminal:\n",
    "\n",
    "```\n",
    "pip install pandas\n",
    "```\n"
   ]
  },
  {
   "cell_type": "markdown",
   "id": "ce69adf3",
   "metadata": {
    "vscode": {
     "languageId": "plaintext"
    }
   },
   "source": [
    "para importar o pandas:"
   ]
  },
  {
   "cell_type": "code",
   "execution_count": 2,
   "id": "a7cb4b5d",
   "metadata": {},
   "outputs": [],
   "source": [
    "import pandas as pd"
   ]
  },
  {
   "cell_type": "markdown",
   "id": "84231a2d",
   "metadata": {},
   "source": [
    "Os principais objetos Pandas são Series e DataFrames"
   ]
  },
  {
   "cell_type": "markdown",
   "id": "8bc93fdc",
   "metadata": {},
   "source": [
    "## Series"
   ]
  },
  {
   "cell_type": "markdown",
   "id": "fcf70cbf",
   "metadata": {},
   "source": [
    "Uma Series no Pandas é uma estrutura de dados unidimensional, parecida com uma coluna de uma planilha. Ela armazena uma sequência de valores (como números, textos ou datas) acompanhados de um índice, que identifica cada elemento. Esse índice pode ser automático (0, 1, 2...) ou personalizado. As Series são muito úteis para representar e manipular listas de dados com rótulos, permitindo fazer operações matemáticas, filtragens e análises de forma simples e eficiente."
   ]
  },
  {
   "cell_type": "markdown",
   "id": "e62a705e",
   "metadata": {},
   "source": [
    "Os principais métodos de uma Series:\n",
    "\n",
    "| Método                   | Descrição                                                 |\n",
    "| :----------------------- | :-------------------------------------------------------- |\n",
    "| `head(n)`                | Mostra os primeiros *n* elementos da Series (padrão = 5). |\n",
    "| `tail(n)`                | Mostra os últimos *n* elementos da Series.                |\n",
    "| `unique()`               | Retorna os valores únicos da Series.                      |\n",
    "| `value_counts()`         | Conta quantas vezes cada valor aparece.                   |\n",
    "| `mean()`                 | Calcula a média dos valores numéricos.                    |\n",
    "| `sum()`                  | Retorna a soma dos valores.                               |\n",
    "| `max()` / `min()`        | Retorna o maior ou menor valor.                           |\n",
    "| `sort_values()`          | Ordena os valores da Series.                              |\n",
    "| `isnull()` / `notnull()` | Verifica se há valores nulos (NaN).                       |\n",
    "| `apply(func)`            | Aplica uma função personalizada a cada elemento.          |\n"
   ]
  },
  {
   "cell_type": "markdown",
   "id": "5d6df571",
   "metadata": {},
   "source": [
    "No exemplo abaixo vemos uma lista de 100 notas que foram transformadas em uma Series Pandas. Repare em como cada nota tem um índice quando exibimos o resultado"
   ]
  },
  {
   "cell_type": "code",
   "execution_count": 3,
   "id": "441ea89a",
   "metadata": {},
   "outputs": [
    {
     "name": "stdout",
     "output_type": "stream",
     "text": [
      "Tipo da variável:  <class 'list'>\n",
      "Tipo da variável:  <class 'pandas.core.series.Series'>\n",
      "0     1\n",
      "1     0\n",
      "2     6\n",
      "3     3\n",
      "4     6\n",
      "     ..\n",
      "95    0\n",
      "96    9\n",
      "97    6\n",
      "98    7\n",
      "99    4\n",
      "Length: 100, dtype: int64\n"
     ]
    }
   ],
   "source": [
    "# Lista com 100 notas inteiras\n",
    "notas = [ 1,  0,  6,  3,  6,  4,  4,  9,  5,  2,  4,  3,  9,  9,  9, 10,  9,\n",
    "        8,  1, 10,  1,  9,  1,  4,  2,  6,  3,  5, 10,  0, 10,  6,  0,  7,\n",
    "        7,  6,  7,  4,  4,  8,  9,  5,  5,  0, 10,  4,  3,  0,  2, 10,  1,\n",
    "       10,  4,  7,  1,  7,  0,  7,  0,  3, 10,  6,  7,  0,  3,  6,  3,  7,\n",
    "        3,  6,  8,  3,  6,  8,  6,  3,  9,  5,  0,  4,  9,  7,  0,  5,  7,\n",
    "        8,  8,  3,  5,  9, 10,  5,  6,  4,  6,  0,  9,  6,  7,  4]\n",
    "print('Tipo da variável: ',type(notas)) # Verifica o tipo original\n",
    "\n",
    "# Transforma a lista em Series\n",
    "notas = pd.Series(notas)\n",
    "print('Tipo da variável: ',type(notas)) # Verifica o tipo após a mudança\n",
    "print(notas) # Exibe a Series"
   ]
  },
  {
   "cell_type": "markdown",
   "id": "ad504328",
   "metadata": {},
   "source": [
    "Exibindo as 5 primeiras e últimas notas"
   ]
  },
  {
   "cell_type": "code",
   "execution_count": 4,
   "id": "74cd335c",
   "metadata": {},
   "outputs": [
    {
     "data": {
      "text/plain": [
       "0    1\n",
       "1    0\n",
       "2    6\n",
       "3    3\n",
       "4    6\n",
       "dtype: int64"
      ]
     },
     "execution_count": 4,
     "metadata": {},
     "output_type": "execute_result"
    }
   ],
   "source": [
    "# 5 primeiras notas\n",
    "notas.head()"
   ]
  },
  {
   "cell_type": "code",
   "execution_count": 5,
   "id": "9ae44880",
   "metadata": {},
   "outputs": [
    {
     "data": {
      "text/plain": [
       "95    0\n",
       "96    9\n",
       "97    6\n",
       "98    7\n",
       "99    4\n",
       "dtype: int64"
      ]
     },
     "execution_count": 5,
     "metadata": {},
     "output_type": "execute_result"
    }
   ],
   "source": [
    "# 5 últimas notas\n",
    "notas.tail()"
   ]
  },
  {
   "cell_type": "markdown",
   "id": "6bfed3ea",
   "metadata": {},
   "source": [
    "Exibindo somente as notas \"únicas\" (sem repetições)"
   ]
  },
  {
   "cell_type": "code",
   "execution_count": 6,
   "id": "5e489557",
   "metadata": {},
   "outputs": [
    {
     "data": {
      "text/plain": [
       "array([ 1,  0,  6,  3,  4,  9,  5,  2, 10,  8,  7])"
      ]
     },
     "execution_count": 6,
     "metadata": {},
     "output_type": "execute_result"
    }
   ],
   "source": [
    "notas.unique()"
   ]
  },
  {
   "cell_type": "markdown",
   "id": "778a0f20",
   "metadata": {},
   "source": [
    "Exibindo a quantidade de ocorrências de cada nota"
   ]
  },
  {
   "cell_type": "code",
   "execution_count": 7,
   "id": "06c2f63a",
   "metadata": {},
   "outputs": [
    {
     "data": {
      "text/plain": [
       "6     13\n",
       "0     11\n",
       "3     11\n",
       "9     11\n",
       "4     11\n",
       "7     11\n",
       "10     9\n",
       "5      8\n",
       "1      6\n",
       "8      6\n",
       "2      3\n",
       "Name: count, dtype: int64"
      ]
     },
     "execution_count": 7,
     "metadata": {},
     "output_type": "execute_result"
    }
   ],
   "source": [
    "notas.value_counts()"
   ]
  },
  {
   "cell_type": "markdown",
   "id": "20b73880",
   "metadata": {},
   "source": [
    "Não deixe de testar os outros métodos"
   ]
  },
  {
   "cell_type": "markdown",
   "id": "2aa7f0f4",
   "metadata": {},
   "source": [
    "---"
   ]
  },
  {
   "cell_type": "markdown",
   "id": "d58c86ed",
   "metadata": {},
   "source": [
    "## DataFrames"
   ]
  },
  {
   "cell_type": "markdown",
   "id": "654d67fe",
   "metadata": {},
   "source": [
    "Um DataFrame é a estrutura de dados bidimensional do Pandas, semelhante a uma tabela do Excel, com linhas e colunas. Cada coluna de um DataFrame é, na verdade, uma Series, o que permite trabalhar com diferentes tipos de dados (números, textos, datas, etc.) ao mesmo tempo. Essa estrutura é ideal para armazenar, organizar e analisar grandes conjuntos de dados, permitindo realizar operações como filtragem, agrupamento, cálculos estatísticos e muito mais de forma rápida e intuitiva."
   ]
  },
  {
   "cell_type": "markdown",
   "id": "eb6fbd58",
   "metadata": {},
   "source": [
    "Principais métodos de um DataFrame:\n",
    "\n",
    "| Método                    | Descrição                                                        |\n",
    "| :------------------------ | :--------------------------------------------------------------- |\n",
    "| `head(n)`                 | Mostra as primeiras *n* linhas do DataFrame.                     |\n",
    "| `info()`                  | Exibe informações sobre colunas, tipos de dados e valores nulos. |\n",
    "| `describe()`              | Gera estatísticas descritivas (média, desvio padrão, etc.).      |\n",
    "| `shape`                   | Retorna o número de linhas e colunas (tupla).                    |\n",
    "| `columns`                 | Mostra os nomes das colunas.                                     |\n",
    "| `dtypes`                  | Mostra o tipo de dado de cada coluna.                            |\n",
    "| `loc[]`                   | Acessa linhas e colunas pelo nome.                               |\n",
    "| `iloc[]`                  | Acessa linhas e colunas pela posição.                            |\n",
    "| `drop()`                  | Remove colunas ou linhas.                                        |\n",
    "| `groupby()`               | Agrupa os dados com base em uma ou mais colunas.                 |\n",
    "| `sort_values()`           | Ordena os dados por uma coluna específica.                       |\n",
    "| `fillna()`                | Substitui valores nulos (NaN) por outro valor.                   |\n",
    "| `merge()`                 | Junta dois DataFrames (como em SQL JOIN).                        |\n",
    "| `to_csv()` / `read_csv()` | Exporta ou importa dados em formato CSV.                         |\n"
   ]
  },
  {
   "cell_type": "markdown",
   "id": "3a727cec",
   "metadata": {},
   "source": [
    "Geralmente o objeto DataFrame é criado automáticamente quando importamos um conjunto de dados usando pd.read_excel() ou qualquer função do tipo, por exemplo.\n",
    "\n",
    "Mas neste momento vamos criar um DataFrame do zero para entender melhor como ele funciona"
   ]
  },
  {
   "cell_type": "code",
   "execution_count": 8,
   "id": "f7343d9f",
   "metadata": {},
   "outputs": [
    {
     "data": {
      "text/html": [
       "<div>\n",
       "<style scoped>\n",
       "    .dataframe tbody tr th:only-of-type {\n",
       "        vertical-align: middle;\n",
       "    }\n",
       "\n",
       "    .dataframe tbody tr th {\n",
       "        vertical-align: top;\n",
       "    }\n",
       "\n",
       "    .dataframe thead th {\n",
       "        text-align: right;\n",
       "    }\n",
       "</style>\n",
       "<table border=\"1\" class=\"dataframe\">\n",
       "  <thead>\n",
       "    <tr style=\"text-align: right;\">\n",
       "      <th></th>\n",
       "      <th>nomes</th>\n",
       "      <th>notas</th>\n",
       "    </tr>\n",
       "  </thead>\n",
       "  <tbody>\n",
       "    <tr>\n",
       "      <th>0</th>\n",
       "      <td>Joao</td>\n",
       "      <td>8</td>\n",
       "    </tr>\n",
       "    <tr>\n",
       "      <th>1</th>\n",
       "      <td>Maria</td>\n",
       "      <td>9</td>\n",
       "    </tr>\n",
       "    <tr>\n",
       "      <th>2</th>\n",
       "      <td>Fernanda</td>\n",
       "      <td>5</td>\n",
       "    </tr>\n",
       "    <tr>\n",
       "      <th>3</th>\n",
       "      <td>Pedro</td>\n",
       "      <td>5</td>\n",
       "    </tr>\n",
       "    <tr>\n",
       "      <th>4</th>\n",
       "      <td>Robson</td>\n",
       "      <td>10</td>\n",
       "    </tr>\n",
       "    <tr>\n",
       "      <th>5</th>\n",
       "      <td>Moacir</td>\n",
       "      <td>4</td>\n",
       "    </tr>\n",
       "    <tr>\n",
       "      <th>6</th>\n",
       "      <td>Alex</td>\n",
       "      <td>3</td>\n",
       "    </tr>\n",
       "    <tr>\n",
       "      <th>7</th>\n",
       "      <td>Lara</td>\n",
       "      <td>2</td>\n",
       "    </tr>\n",
       "  </tbody>\n",
       "</table>\n",
       "</div>"
      ],
      "text/plain": [
       "      nomes  notas\n",
       "0      Joao      8\n",
       "1     Maria      9\n",
       "2  Fernanda      5\n",
       "3     Pedro      5\n",
       "4    Robson     10\n",
       "5    Moacir      4\n",
       "6      Alex      3\n",
       "7      Lara      2"
      ]
     },
     "execution_count": 8,
     "metadata": {},
     "output_type": "execute_result"
    }
   ],
   "source": [
    "dados = {\n",
    "    'nomes' : ['Joao', 'Maria', 'Fernanda', 'Pedro', 'Robson', 'Moacir', 'Alex', 'Lara'],\n",
    "    'notas' : [8,  9,  5,  5, 10,  4,  3, 2]\n",
    "    }\n",
    "\n",
    "\n",
    "df = pd.DataFrame(dados)\n",
    "df"
   ]
  },
  {
   "cell_type": "markdown",
   "id": "1b11491c",
   "metadata": {},
   "source": [
    "Para selecionar apenas uma colunas funciona de maneira semelhante à acessar uma chave de um dicionário. Porém com o detalhe que o objeto retornado é uma Series."
   ]
  },
  {
   "cell_type": "code",
   "execution_count": 9,
   "id": "b32be84a",
   "metadata": {},
   "outputs": [
    {
     "data": {
      "text/plain": [
       "0        Joao\n",
       "1       Maria\n",
       "2    Fernanda\n",
       "3       Pedro\n",
       "4      Robson\n",
       "5      Moacir\n",
       "6        Alex\n",
       "7        Lara\n",
       "Name: nomes, dtype: object"
      ]
     },
     "execution_count": 9,
     "metadata": {},
     "output_type": "execute_result"
    }
   ],
   "source": [
    "# Selecionando apenas a coluna 'nomes'\n",
    "df['nomes']"
   ]
  },
  {
   "cell_type": "code",
   "execution_count": 10,
   "id": "29d6418b",
   "metadata": {},
   "outputs": [
    {
     "data": {
      "text/plain": [
       "0     8\n",
       "1     9\n",
       "2     5\n",
       "3     5\n",
       "4    10\n",
       "5     4\n",
       "6     3\n",
       "7     2\n",
       "Name: notas, dtype: int64"
      ]
     },
     "execution_count": 10,
     "metadata": {},
     "output_type": "execute_result"
    }
   ],
   "source": [
    "# selecionando apenas a coluna 'notas'\n",
    "df['notas']"
   ]
  },
  {
   "cell_type": "markdown",
   "id": "d556a704",
   "metadata": {},
   "source": [
    "Descobrindo a média de todas as notas:"
   ]
  },
  {
   "cell_type": "code",
   "execution_count": 11,
   "id": "8c6d61f5",
   "metadata": {},
   "outputs": [
    {
     "data": {
      "text/plain": [
       "np.float64(5.75)"
      ]
     },
     "execution_count": 11,
     "metadata": {},
     "output_type": "execute_result"
    }
   ],
   "source": [
    "df['notas'].mean()"
   ]
  },
  {
   "cell_type": "markdown",
   "id": "ead15560",
   "metadata": {},
   "source": [
    "Para filtrar um registro:"
   ]
  },
  {
   "cell_type": "code",
   "execution_count": 12,
   "id": "3cad87b6",
   "metadata": {},
   "outputs": [
    {
     "data": {
      "text/plain": [
       "0     True\n",
       "1     True\n",
       "2    False\n",
       "3    False\n",
       "4     True\n",
       "5    False\n",
       "6    False\n",
       "7    False\n",
       "Name: notas, dtype: bool"
      ]
     },
     "execution_count": 12,
     "metadata": {},
     "output_type": "execute_result"
    }
   ],
   "source": [
    "# Isso gera uma Series de True/False (Bool)\n",
    "df['notas'] > 5 # Lista de Verdadeiros e Falsos"
   ]
  },
  {
   "cell_type": "markdown",
   "id": "cb0e8b30",
   "metadata": {},
   "source": [
    "Nós podemos transformar essa Series de volta em um Dataframe passando esta mesma linha de código no colchetes do DataFrame"
   ]
  },
  {
   "cell_type": "code",
   "execution_count": 13,
   "id": "e95a624a",
   "metadata": {},
   "outputs": [
    {
     "data": {
      "text/html": [
       "<div>\n",
       "<style scoped>\n",
       "    .dataframe tbody tr th:only-of-type {\n",
       "        vertical-align: middle;\n",
       "    }\n",
       "\n",
       "    .dataframe tbody tr th {\n",
       "        vertical-align: top;\n",
       "    }\n",
       "\n",
       "    .dataframe thead th {\n",
       "        text-align: right;\n",
       "    }\n",
       "</style>\n",
       "<table border=\"1\" class=\"dataframe\">\n",
       "  <thead>\n",
       "    <tr style=\"text-align: right;\">\n",
       "      <th></th>\n",
       "      <th>nomes</th>\n",
       "      <th>notas</th>\n",
       "    </tr>\n",
       "  </thead>\n",
       "  <tbody>\n",
       "    <tr>\n",
       "      <th>0</th>\n",
       "      <td>Joao</td>\n",
       "      <td>8</td>\n",
       "    </tr>\n",
       "    <tr>\n",
       "      <th>1</th>\n",
       "      <td>Maria</td>\n",
       "      <td>9</td>\n",
       "    </tr>\n",
       "    <tr>\n",
       "      <th>4</th>\n",
       "      <td>Robson</td>\n",
       "      <td>10</td>\n",
       "    </tr>\n",
       "  </tbody>\n",
       "</table>\n",
       "</div>"
      ],
      "text/plain": [
       "    nomes  notas\n",
       "0    Joao      8\n",
       "1   Maria      9\n",
       "4  Robson     10"
      ]
     },
     "execution_count": 13,
     "metadata": {},
     "output_type": "execute_result"
    }
   ],
   "source": [
    "df[df['notas'] > 5] # Desta maneira podemos usar a lógica booleana para filtrar linhas em um DataFrame"
   ]
  },
  {
   "cell_type": "markdown",
   "id": "62c642a4",
   "metadata": {},
   "source": [
    "## Analizando um pouco melhor o DataFrame"
   ]
  },
  {
   "cell_type": "markdown",
   "id": "d7e1ffbc",
   "metadata": {},
   "source": [
    "Com o DataFrame em mãos, podemos verificar algumas informações importantes sobre a quantidade de linhas e colunas, tipos de dados, tamanho em bytes ocupado na memória e etc utilizando o método **df.info()**"
   ]
  },
  {
   "cell_type": "code",
   "execution_count": 14,
   "id": "7411666d",
   "metadata": {},
   "outputs": [
    {
     "name": "stdout",
     "output_type": "stream",
     "text": [
      "<class 'pandas.core.frame.DataFrame'>\n",
      "RangeIndex: 8 entries, 0 to 7\n",
      "Data columns (total 2 columns):\n",
      " #   Column  Non-Null Count  Dtype \n",
      "---  ------  --------------  ----- \n",
      " 0   nomes   8 non-null      object\n",
      " 1   notas   8 non-null      int64 \n",
      "dtypes: int64(1), object(1)\n",
      "memory usage: 260.0+ bytes\n"
     ]
    }
   ],
   "source": [
    "df.info()"
   ]
  },
  {
   "cell_type": "markdown",
   "id": "8df010b9",
   "metadata": {},
   "source": [
    "---"
   ]
  },
  {
   "cell_type": "markdown",
   "id": "05e2a0a8",
   "metadata": {},
   "source": [
    "Informações do DataFrame:\n",
    "- Podemos ver o tipo da variável = 'pandas.core.frame.DataFrame'\n",
    "- A quantidade de linhas do DataFrame (RangeIndex) = 8 entries, 0 to 7 (Significa que tem 8 linhas e o índice vai de 0 à 7)\n",
    "- A quantidade de colunas (Data columns) = total 2 columns (Duas colunas)\n",
    "\n",
    "Em seguida vemos informações sobre as colunas:\n",
    "- O nome (Column) = informa em ordem o nome das colunas\n",
    "- Non-Null Count = informa a quantidade de registros 'não vazios' naquela coluna\n",
    "- Dtype = Informa o tipo de dados contidos naquela coluna (object significa que é uma coluna de strings)\n",
    "\n",
    "Por últimos temos:\n",
    "- dtypes = uma relação de todos os tipos de colunas\n",
    "- memory usage = o espaço que o dataframe ocupa na memória ram enquanto o script python está sendo executado"
   ]
  },
  {
   "cell_type": "markdown",
   "id": "4d605ec7",
   "metadata": {},
   "source": [
    "# Exercícios"
   ]
  },
  {
   "cell_type": "markdown",
   "id": "4d6b2451",
   "metadata": {},
   "source": [
    "## 1 - Importe 'pandas' como pd"
   ]
  },
  {
   "cell_type": "code",
   "execution_count": 15,
   "id": "4a10c1bf",
   "metadata": {},
   "outputs": [],
   "source": [
    "import pandas as pd"
   ]
  },
  {
   "cell_type": "markdown",
   "id": "75db6450",
   "metadata": {},
   "source": [
    "## 2 - Transforme o dicionário abaixo em um DataFrame e exiba a tabela Dataframe\n"
   ]
  },
  {
   "cell_type": "code",
   "execution_count": 16,
   "id": "6d2a1c74",
   "metadata": {},
   "outputs": [
    {
     "data": {
      "text/html": [
       "<div>\n",
       "<style scoped>\n",
       "    .dataframe tbody tr th:only-of-type {\n",
       "        vertical-align: middle;\n",
       "    }\n",
       "\n",
       "    .dataframe tbody tr th {\n",
       "        vertical-align: top;\n",
       "    }\n",
       "\n",
       "    .dataframe thead th {\n",
       "        text-align: right;\n",
       "    }\n",
       "</style>\n",
       "<table border=\"1\" class=\"dataframe\">\n",
       "  <thead>\n",
       "    <tr style=\"text-align: right;\">\n",
       "      <th></th>\n",
       "      <th>nome</th>\n",
       "      <th>unidade</th>\n",
       "      <th>escala_noturna</th>\n",
       "      <th>vendas</th>\n",
       "    </tr>\n",
       "  </thead>\n",
       "  <tbody>\n",
       "    <tr>\n",
       "      <th>0</th>\n",
       "      <td>Ana Souza</td>\n",
       "      <td>2</td>\n",
       "      <td>False</td>\n",
       "      <td>18754.32</td>\n",
       "    </tr>\n",
       "    <tr>\n",
       "      <th>1</th>\n",
       "      <td>Bruno Lima</td>\n",
       "      <td>1</td>\n",
       "      <td>True</td>\n",
       "      <td>24321.89</td>\n",
       "    </tr>\n",
       "    <tr>\n",
       "      <th>2</th>\n",
       "      <td>Carla Ferreira</td>\n",
       "      <td>3</td>\n",
       "      <td>False</td>\n",
       "      <td>19876.45</td>\n",
       "    </tr>\n",
       "    <tr>\n",
       "      <th>3</th>\n",
       "      <td>Diego Santos</td>\n",
       "      <td>2</td>\n",
       "      <td>True</td>\n",
       "      <td>27543.22</td>\n",
       "    </tr>\n",
       "    <tr>\n",
       "      <th>4</th>\n",
       "      <td>Eduarda Nascimento</td>\n",
       "      <td>1</td>\n",
       "      <td>False</td>\n",
       "      <td>15789.66</td>\n",
       "    </tr>\n",
       "    <tr>\n",
       "      <th>5</th>\n",
       "      <td>Felipe Almeida</td>\n",
       "      <td>3</td>\n",
       "      <td>True</td>\n",
       "      <td>29123.10</td>\n",
       "    </tr>\n",
       "    <tr>\n",
       "      <th>6</th>\n",
       "      <td>Giovana Ramos</td>\n",
       "      <td>1</td>\n",
       "      <td>False</td>\n",
       "      <td>22345.99</td>\n",
       "    </tr>\n",
       "    <tr>\n",
       "      <th>7</th>\n",
       "      <td>Henrique Costa</td>\n",
       "      <td>2</td>\n",
       "      <td>True</td>\n",
       "      <td>26789.40</td>\n",
       "    </tr>\n",
       "    <tr>\n",
       "      <th>8</th>\n",
       "      <td>Isabela Araujo</td>\n",
       "      <td>3</td>\n",
       "      <td>False</td>\n",
       "      <td>19456.78</td>\n",
       "    </tr>\n",
       "    <tr>\n",
       "      <th>9</th>\n",
       "      <td>João Pereira</td>\n",
       "      <td>1</td>\n",
       "      <td>True</td>\n",
       "      <td>28345.55</td>\n",
       "    </tr>\n",
       "    <tr>\n",
       "      <th>10</th>\n",
       "      <td>Karina Oliveira</td>\n",
       "      <td>2</td>\n",
       "      <td>False</td>\n",
       "      <td>17654.12</td>\n",
       "    </tr>\n",
       "    <tr>\n",
       "      <th>11</th>\n",
       "      <td>Lucas Rodrigues</td>\n",
       "      <td>3</td>\n",
       "      <td>True</td>\n",
       "      <td>23876.99</td>\n",
       "    </tr>\n",
       "    <tr>\n",
       "      <th>12</th>\n",
       "      <td>Mariana Machado</td>\n",
       "      <td>1</td>\n",
       "      <td>False</td>\n",
       "      <td>20543.70</td>\n",
       "    </tr>\n",
       "    <tr>\n",
       "      <th>13</th>\n",
       "      <td>Nathan Silva</td>\n",
       "      <td>3</td>\n",
       "      <td>True</td>\n",
       "      <td>29654.88</td>\n",
       "    </tr>\n",
       "    <tr>\n",
       "      <th>14</th>\n",
       "      <td>Olívia Barbosa</td>\n",
       "      <td>2</td>\n",
       "      <td>False</td>\n",
       "      <td>18321.44</td>\n",
       "    </tr>\n",
       "  </tbody>\n",
       "</table>\n",
       "</div>"
      ],
      "text/plain": [
       "                  nome  unidade  escala_noturna    vendas\n",
       "0            Ana Souza        2           False  18754.32\n",
       "1           Bruno Lima        1            True  24321.89\n",
       "2       Carla Ferreira        3           False  19876.45\n",
       "3         Diego Santos        2            True  27543.22\n",
       "4   Eduarda Nascimento        1           False  15789.66\n",
       "5       Felipe Almeida        3            True  29123.10\n",
       "6        Giovana Ramos        1           False  22345.99\n",
       "7       Henrique Costa        2            True  26789.40\n",
       "8       Isabela Araujo        3           False  19456.78\n",
       "9         João Pereira        1            True  28345.55\n",
       "10     Karina Oliveira        2           False  17654.12\n",
       "11     Lucas Rodrigues        3            True  23876.99\n",
       "12     Mariana Machado        1           False  20543.70\n",
       "13        Nathan Silva        3            True  29654.88\n",
       "14      Olívia Barbosa        2           False  18321.44"
      ]
     },
     "execution_count": 16,
     "metadata": {},
     "output_type": "execute_result"
    }
   ],
   "source": [
    "funcionarios = {\n",
    "    \"nome\": [\n",
    "        \"Ana Souza\", \"Bruno Lima\", \"Carla Ferreira\", \"Diego Santos\", \"Eduarda Nascimento\",\n",
    "        \"Felipe Almeida\", \"Giovana Ramos\", \"Henrique Costa\", \"Isabela Araujo\", \"João Pereira\",\n",
    "        \"Karina Oliveira\", \"Lucas Rodrigues\", \"Mariana Machado\", \"Nathan Silva\", \"Olívia Barbosa\"\n",
    "    ],\n",
    "    \"unidade\": [\n",
    "        2, 1, 3, 2, 1,\n",
    "        3, 1, 2, 3, 1,\n",
    "        2, 3, 1, 3, 2\n",
    "    ],\n",
    "    \"escala_noturna\": [\n",
    "        False, True, False, True, False,\n",
    "        True, False, True, False, True,\n",
    "        False, True, False, True, False\n",
    "    ],\n",
    "    \"vendas\": [\n",
    "        18754.32, 24321.89, 19876.45, 27543.22, 15789.66,\n",
    "        29123.10, 22345.99, 26789.40, 19456.78, 28345.55,\n",
    "        17654.12, 23876.99, 20543.70, 29654.88, 18321.44\n",
    "    ]\n",
    "}\n",
    "\n",
    "\n",
    "df = pd.DataFrame(funcionarios)\n",
    "df"
   ]
  },
  {
   "cell_type": "code",
   "execution_count": null,
   "id": "1304848b",
   "metadata": {},
   "outputs": [],
   "source": []
  },
  {
   "cell_type": "code",
   "execution_count": null,
   "id": "752e9f84",
   "metadata": {},
   "outputs": [
    {
     "data": {
      "text/html": [
       "<div>\n",
       "<style scoped>\n",
       "    .dataframe tbody tr th:only-of-type {\n",
       "        vertical-align: middle;\n",
       "    }\n",
       "\n",
       "    .dataframe tbody tr th {\n",
       "        vertical-align: top;\n",
       "    }\n",
       "\n",
       "    .dataframe thead th {\n",
       "        text-align: right;\n",
       "    }\n",
       "</style>\n",
       "<table border=\"1\" class=\"dataframe\">\n",
       "  <thead>\n",
       "    <tr style=\"text-align: right;\">\n",
       "      <th></th>\n",
       "      <th>nome</th>\n",
       "      <th>unidade</th>\n",
       "      <th>escala_noturna</th>\n",
       "      <th>vendas</th>\n",
       "    </tr>\n",
       "  </thead>\n",
       "  <tbody>\n",
       "    <tr>\n",
       "      <th>0</th>\n",
       "      <td>Ana Souza</td>\n",
       "      <td>2</td>\n",
       "      <td>False</td>\n",
       "      <td>18754.32</td>\n",
       "    </tr>\n",
       "    <tr>\n",
       "      <th>1</th>\n",
       "      <td>Bruno Lima</td>\n",
       "      <td>1</td>\n",
       "      <td>True</td>\n",
       "      <td>24321.89</td>\n",
       "    </tr>\n",
       "    <tr>\n",
       "      <th>2</th>\n",
       "      <td>Carla Ferreira</td>\n",
       "      <td>3</td>\n",
       "      <td>False</td>\n",
       "      <td>19876.45</td>\n",
       "    </tr>\n",
       "    <tr>\n",
       "      <th>3</th>\n",
       "      <td>Diego Santos</td>\n",
       "      <td>2</td>\n",
       "      <td>True</td>\n",
       "      <td>27543.22</td>\n",
       "    </tr>\n",
       "    <tr>\n",
       "      <th>4</th>\n",
       "      <td>Eduarda Nascimento</td>\n",
       "      <td>1</td>\n",
       "      <td>False</td>\n",
       "      <td>15789.66</td>\n",
       "    </tr>\n",
       "    <tr>\n",
       "      <th>5</th>\n",
       "      <td>Felipe Almeida</td>\n",
       "      <td>3</td>\n",
       "      <td>True</td>\n",
       "      <td>29123.10</td>\n",
       "    </tr>\n",
       "    <tr>\n",
       "      <th>6</th>\n",
       "      <td>Giovana Ramos</td>\n",
       "      <td>1</td>\n",
       "      <td>False</td>\n",
       "      <td>22345.99</td>\n",
       "    </tr>\n",
       "    <tr>\n",
       "      <th>7</th>\n",
       "      <td>Henrique Costa</td>\n",
       "      <td>2</td>\n",
       "      <td>True</td>\n",
       "      <td>26789.40</td>\n",
       "    </tr>\n",
       "    <tr>\n",
       "      <th>8</th>\n",
       "      <td>Isabela Araujo</td>\n",
       "      <td>3</td>\n",
       "      <td>False</td>\n",
       "      <td>19456.78</td>\n",
       "    </tr>\n",
       "    <tr>\n",
       "      <th>9</th>\n",
       "      <td>João Pereira</td>\n",
       "      <td>1</td>\n",
       "      <td>True</td>\n",
       "      <td>28345.55</td>\n",
       "    </tr>\n",
       "    <tr>\n",
       "      <th>10</th>\n",
       "      <td>Karina Oliveira</td>\n",
       "      <td>2</td>\n",
       "      <td>False</td>\n",
       "      <td>17654.12</td>\n",
       "    </tr>\n",
       "    <tr>\n",
       "      <th>11</th>\n",
       "      <td>Lucas Rodrigues</td>\n",
       "      <td>3</td>\n",
       "      <td>True</td>\n",
       "      <td>23876.99</td>\n",
       "    </tr>\n",
       "    <tr>\n",
       "      <th>12</th>\n",
       "      <td>Mariana Machado</td>\n",
       "      <td>1</td>\n",
       "      <td>False</td>\n",
       "      <td>20543.70</td>\n",
       "    </tr>\n",
       "    <tr>\n",
       "      <th>13</th>\n",
       "      <td>Nathan Silva</td>\n",
       "      <td>3</td>\n",
       "      <td>True</td>\n",
       "      <td>29654.88</td>\n",
       "    </tr>\n",
       "    <tr>\n",
       "      <th>14</th>\n",
       "      <td>Olívia Barbosa</td>\n",
       "      <td>2</td>\n",
       "      <td>False</td>\n",
       "      <td>18321.44</td>\n",
       "    </tr>\n",
       "  </tbody>\n",
       "</table>\n",
       "</div>"
      ],
      "text/plain": [
       "                  nome  unidade  escala_noturna    vendas\n",
       "0            Ana Souza        2           False  18754.32\n",
       "1           Bruno Lima        1            True  24321.89\n",
       "2       Carla Ferreira        3           False  19876.45\n",
       "3         Diego Santos        2            True  27543.22\n",
       "4   Eduarda Nascimento        1           False  15789.66\n",
       "5       Felipe Almeida        3            True  29123.10\n",
       "6        Giovana Ramos        1           False  22345.99\n",
       "7       Henrique Costa        2            True  26789.40\n",
       "8       Isabela Araujo        3           False  19456.78\n",
       "9         João Pereira        1            True  28345.55\n",
       "10     Karina Oliveira        2           False  17654.12\n",
       "11     Lucas Rodrigues        3            True  23876.99\n",
       "12     Mariana Machado        1           False  20543.70\n",
       "13        Nathan Silva        3            True  29654.88\n",
       "14      Olívia Barbosa        2           False  18321.44"
      ]
     },
     "execution_count": 92,
     "metadata": {},
     "output_type": "execute_result"
    }
   ],
   "source": [
    "# Não rode essa linha de código para não perder o resultado de exemplo"
   ]
  },
  {
   "cell_type": "markdown",
   "id": "76b09b46",
   "metadata": {},
   "source": [
    "## 3 - Exiba as informações de dimensões, linhas, colunas e tipos de dados do DataFrame"
   ]
  },
  {
   "cell_type": "code",
   "execution_count": 17,
   "id": "08f8f311",
   "metadata": {},
   "outputs": [
    {
     "name": "stdout",
     "output_type": "stream",
     "text": [
      "<class 'pandas.core.frame.DataFrame'>\n",
      "RangeIndex: 15 entries, 0 to 14\n",
      "Data columns (total 4 columns):\n",
      " #   Column          Non-Null Count  Dtype  \n",
      "---  ------          --------------  -----  \n",
      " 0   nome            15 non-null     object \n",
      " 1   unidade         15 non-null     int64  \n",
      " 2   escala_noturna  15 non-null     bool   \n",
      " 3   vendas          15 non-null     float64\n",
      "dtypes: bool(1), float64(1), int64(1), object(1)\n",
      "memory usage: 507.0+ bytes\n"
     ]
    }
   ],
   "source": [
    "df.info()"
   ]
  },
  {
   "cell_type": "code",
   "execution_count": null,
   "id": "a7243741",
   "metadata": {},
   "outputs": [
    {
     "name": "stdout",
     "output_type": "stream",
     "text": [
      "<class 'pandas.core.frame.DataFrame'>\n",
      "RangeIndex: 15 entries, 0 to 14\n",
      "Data columns (total 4 columns):\n",
      " #   Column          Non-Null Count  Dtype  \n",
      "---  ------          --------------  -----  \n",
      " 0   nome            15 non-null     object \n",
      " 1   unidade         15 non-null     int64  \n",
      " 2   escala_noturna  15 non-null     bool   \n",
      " 3   vendas          15 non-null     float64\n",
      "dtypes: bool(1), float64(1), int64(1), object(1)\n",
      "memory usage: 507.0+ bytes\n"
     ]
    }
   ],
   "source": [
    "# Não rode essa linha de código para não perder o resultado de exemplo"
   ]
  },
  {
   "cell_type": "markdown",
   "id": "6d31f2c5",
   "metadata": {},
   "source": [
    "## 4 - Quantos funcionários temos em cada unidade? dica: utilize o método value_counts()"
   ]
  },
  {
   "cell_type": "code",
   "execution_count": 18,
   "id": "417a6316",
   "metadata": {},
   "outputs": [
    {
     "data": {
      "text/plain": [
       "<bound method IndexOpsMixin.value_counts of 0     2\n",
       "1     1\n",
       "2     3\n",
       "3     2\n",
       "4     1\n",
       "5     3\n",
       "6     1\n",
       "7     2\n",
       "8     3\n",
       "9     1\n",
       "10    2\n",
       "11    3\n",
       "12    1\n",
       "13    3\n",
       "14    2\n",
       "Name: unidade, dtype: int64>"
      ]
     },
     "execution_count": 18,
     "metadata": {},
     "output_type": "execute_result"
    }
   ],
   "source": [
    "df['unidade'].value_counts"
   ]
  },
  {
   "cell_type": "code",
   "execution_count": null,
   "id": "b44052b3",
   "metadata": {},
   "outputs": [
    {
     "data": {
      "text/plain": [
       "unidade\n",
       "2    5\n",
       "1    5\n",
       "3    5\n",
       "Name: count, dtype: int64"
      ]
     },
     "execution_count": 94,
     "metadata": {},
     "output_type": "execute_result"
    }
   ],
   "source": [
    "# Não rode essa linha de código para não perder o resultado de exemplo"
   ]
  },
  {
   "cell_type": "markdown",
   "id": "1353cf5f",
   "metadata": {},
   "source": [
    "## 5 - Seguindo a mesma lógica do exercício anterior, quantos funcionários trabalham de noite ou de dia "
   ]
  },
  {
   "cell_type": "code",
   "execution_count": 19,
   "id": "732043b5",
   "metadata": {},
   "outputs": [
    {
     "data": {
      "text/plain": [
       "escala_noturna\n",
       "False    8\n",
       "True     7\n",
       "Name: count, dtype: int64"
      ]
     },
     "execution_count": 19,
     "metadata": {},
     "output_type": "execute_result"
    }
   ],
   "source": [
    "df['escala_noturna'].value_counts()"
   ]
  },
  {
   "cell_type": "code",
   "execution_count": null,
   "id": "69a49e39",
   "metadata": {},
   "outputs": [
    {
     "data": {
      "text/plain": [
       "escala_noturna\n",
       "False    8\n",
       "True     7\n",
       "Name: count, dtype: int64"
      ]
     },
     "execution_count": 54,
     "metadata": {},
     "output_type": "execute_result"
    }
   ],
   "source": [
    "# Não rode essa linha de código para não perder o resultado de exemplo"
   ]
  },
  {
   "cell_type": "markdown",
   "id": "7a0b038c",
   "metadata": {},
   "source": [
    "## 6 - Qual foi o total de vendas do funcionário chamado Henrique Costa? (utilize a filtragem para descobrir)"
   ]
  },
  {
   "cell_type": "code",
   "execution_count": 20,
   "id": "1b8b04f5",
   "metadata": {},
   "outputs": [
    {
     "data": {
      "text/html": [
       "<div>\n",
       "<style scoped>\n",
       "    .dataframe tbody tr th:only-of-type {\n",
       "        vertical-align: middle;\n",
       "    }\n",
       "\n",
       "    .dataframe tbody tr th {\n",
       "        vertical-align: top;\n",
       "    }\n",
       "\n",
       "    .dataframe thead th {\n",
       "        text-align: right;\n",
       "    }\n",
       "</style>\n",
       "<table border=\"1\" class=\"dataframe\">\n",
       "  <thead>\n",
       "    <tr style=\"text-align: right;\">\n",
       "      <th></th>\n",
       "      <th>nome</th>\n",
       "      <th>unidade</th>\n",
       "      <th>escala_noturna</th>\n",
       "      <th>vendas</th>\n",
       "    </tr>\n",
       "  </thead>\n",
       "  <tbody>\n",
       "    <tr>\n",
       "      <th>7</th>\n",
       "      <td>Henrique Costa</td>\n",
       "      <td>2</td>\n",
       "      <td>True</td>\n",
       "      <td>26789.4</td>\n",
       "    </tr>\n",
       "  </tbody>\n",
       "</table>\n",
       "</div>"
      ],
      "text/plain": [
       "             nome  unidade  escala_noturna   vendas\n",
       "7  Henrique Costa        2            True  26789.4"
      ]
     },
     "execution_count": 20,
     "metadata": {},
     "output_type": "execute_result"
    }
   ],
   "source": [
    "df[df['nome'] =='Henrique Costa']"
   ]
  },
  {
   "cell_type": "code",
   "execution_count": null,
   "id": "c77a4e50",
   "metadata": {},
   "outputs": [
    {
     "data": {
      "text/html": [
       "<div>\n",
       "<style scoped>\n",
       "    .dataframe tbody tr th:only-of-type {\n",
       "        vertical-align: middle;\n",
       "    }\n",
       "\n",
       "    .dataframe tbody tr th {\n",
       "        vertical-align: top;\n",
       "    }\n",
       "\n",
       "    .dataframe thead th {\n",
       "        text-align: right;\n",
       "    }\n",
       "</style>\n",
       "<table border=\"1\" class=\"dataframe\">\n",
       "  <thead>\n",
       "    <tr style=\"text-align: right;\">\n",
       "      <th></th>\n",
       "      <th>nome</th>\n",
       "      <th>unidade</th>\n",
       "      <th>escala_noturna</th>\n",
       "      <th>vendas</th>\n",
       "    </tr>\n",
       "  </thead>\n",
       "  <tbody>\n",
       "    <tr>\n",
       "      <th>7</th>\n",
       "      <td>Henrique Costa</td>\n",
       "      <td>2</td>\n",
       "      <td>True</td>\n",
       "      <td>26789.4</td>\n",
       "    </tr>\n",
       "  </tbody>\n",
       "</table>\n",
       "</div>"
      ],
      "text/plain": [
       "             nome  unidade  escala_noturna   vendas\n",
       "7  Henrique Costa        2            True  26789.4"
      ]
     },
     "execution_count": 57,
     "metadata": {},
     "output_type": "execute_result"
    }
   ],
   "source": [
    "# Não rode essa linha de código para não perder o resultado de exemplo"
   ]
  },
  {
   "cell_type": "markdown",
   "id": "4df4a23a",
   "metadata": {},
   "source": [
    "## 7 - Quais funcionários venderam menos do que R$20000 ?"
   ]
  },
  {
   "cell_type": "code",
   "execution_count": 21,
   "id": "e26e71bb",
   "metadata": {},
   "outputs": [
    {
     "data": {
      "text/html": [
       "<div>\n",
       "<style scoped>\n",
       "    .dataframe tbody tr th:only-of-type {\n",
       "        vertical-align: middle;\n",
       "    }\n",
       "\n",
       "    .dataframe tbody tr th {\n",
       "        vertical-align: top;\n",
       "    }\n",
       "\n",
       "    .dataframe thead th {\n",
       "        text-align: right;\n",
       "    }\n",
       "</style>\n",
       "<table border=\"1\" class=\"dataframe\">\n",
       "  <thead>\n",
       "    <tr style=\"text-align: right;\">\n",
       "      <th></th>\n",
       "      <th>nome</th>\n",
       "      <th>unidade</th>\n",
       "      <th>escala_noturna</th>\n",
       "      <th>vendas</th>\n",
       "    </tr>\n",
       "  </thead>\n",
       "  <tbody>\n",
       "    <tr>\n",
       "      <th>0</th>\n",
       "      <td>Ana Souza</td>\n",
       "      <td>2</td>\n",
       "      <td>False</td>\n",
       "      <td>18754.32</td>\n",
       "    </tr>\n",
       "    <tr>\n",
       "      <th>2</th>\n",
       "      <td>Carla Ferreira</td>\n",
       "      <td>3</td>\n",
       "      <td>False</td>\n",
       "      <td>19876.45</td>\n",
       "    </tr>\n",
       "    <tr>\n",
       "      <th>4</th>\n",
       "      <td>Eduarda Nascimento</td>\n",
       "      <td>1</td>\n",
       "      <td>False</td>\n",
       "      <td>15789.66</td>\n",
       "    </tr>\n",
       "    <tr>\n",
       "      <th>8</th>\n",
       "      <td>Isabela Araujo</td>\n",
       "      <td>3</td>\n",
       "      <td>False</td>\n",
       "      <td>19456.78</td>\n",
       "    </tr>\n",
       "    <tr>\n",
       "      <th>10</th>\n",
       "      <td>Karina Oliveira</td>\n",
       "      <td>2</td>\n",
       "      <td>False</td>\n",
       "      <td>17654.12</td>\n",
       "    </tr>\n",
       "    <tr>\n",
       "      <th>14</th>\n",
       "      <td>Olívia Barbosa</td>\n",
       "      <td>2</td>\n",
       "      <td>False</td>\n",
       "      <td>18321.44</td>\n",
       "    </tr>\n",
       "  </tbody>\n",
       "</table>\n",
       "</div>"
      ],
      "text/plain": [
       "                  nome  unidade  escala_noturna    vendas\n",
       "0            Ana Souza        2           False  18754.32\n",
       "2       Carla Ferreira        3           False  19876.45\n",
       "4   Eduarda Nascimento        1           False  15789.66\n",
       "8       Isabela Araujo        3           False  19456.78\n",
       "10     Karina Oliveira        2           False  17654.12\n",
       "14      Olívia Barbosa        2           False  18321.44"
      ]
     },
     "execution_count": 21,
     "metadata": {},
     "output_type": "execute_result"
    }
   ],
   "source": [
    "df[df['vendas'] < 20000] "
   ]
  },
  {
   "cell_type": "code",
   "execution_count": null,
   "id": "5b0e575d",
   "metadata": {},
   "outputs": [
    {
     "data": {
      "text/html": [
       "<div>\n",
       "<style scoped>\n",
       "    .dataframe tbody tr th:only-of-type {\n",
       "        vertical-align: middle;\n",
       "    }\n",
       "\n",
       "    .dataframe tbody tr th {\n",
       "        vertical-align: top;\n",
       "    }\n",
       "\n",
       "    .dataframe thead th {\n",
       "        text-align: right;\n",
       "    }\n",
       "</style>\n",
       "<table border=\"1\" class=\"dataframe\">\n",
       "  <thead>\n",
       "    <tr style=\"text-align: right;\">\n",
       "      <th></th>\n",
       "      <th>nome</th>\n",
       "      <th>unidade</th>\n",
       "      <th>escala_noturna</th>\n",
       "      <th>vendas</th>\n",
       "    </tr>\n",
       "  </thead>\n",
       "  <tbody>\n",
       "    <tr>\n",
       "      <th>0</th>\n",
       "      <td>Ana Souza</td>\n",
       "      <td>2</td>\n",
       "      <td>False</td>\n",
       "      <td>18754.32</td>\n",
       "    </tr>\n",
       "    <tr>\n",
       "      <th>2</th>\n",
       "      <td>Carla Ferreira</td>\n",
       "      <td>3</td>\n",
       "      <td>False</td>\n",
       "      <td>19876.45</td>\n",
       "    </tr>\n",
       "    <tr>\n",
       "      <th>4</th>\n",
       "      <td>Eduarda Nascimento</td>\n",
       "      <td>1</td>\n",
       "      <td>False</td>\n",
       "      <td>15789.66</td>\n",
       "    </tr>\n",
       "    <tr>\n",
       "      <th>8</th>\n",
       "      <td>Isabela Araujo</td>\n",
       "      <td>3</td>\n",
       "      <td>False</td>\n",
       "      <td>19456.78</td>\n",
       "    </tr>\n",
       "    <tr>\n",
       "      <th>10</th>\n",
       "      <td>Karina Oliveira</td>\n",
       "      <td>2</td>\n",
       "      <td>False</td>\n",
       "      <td>17654.12</td>\n",
       "    </tr>\n",
       "    <tr>\n",
       "      <th>14</th>\n",
       "      <td>Olívia Barbosa</td>\n",
       "      <td>2</td>\n",
       "      <td>False</td>\n",
       "      <td>18321.44</td>\n",
       "    </tr>\n",
       "  </tbody>\n",
       "</table>\n",
       "</div>"
      ],
      "text/plain": [
       "                  nome  unidade  escala_noturna    vendas\n",
       "0            Ana Souza        2           False  18754.32\n",
       "2       Carla Ferreira        3           False  19876.45\n",
       "4   Eduarda Nascimento        1           False  15789.66\n",
       "8       Isabela Araujo        3           False  19456.78\n",
       "10     Karina Oliveira        2           False  17654.12\n",
       "14      Olívia Barbosa        2           False  18321.44"
      ]
     },
     "execution_count": 55,
     "metadata": {},
     "output_type": "execute_result"
    }
   ],
   "source": [
    "# Não rode essa linha de código para não perder o resultado de exemplo"
   ]
  },
  {
   "cell_type": "markdown",
   "id": "6902e72f",
   "metadata": {},
   "source": [
    "## 8 - (**BONUS**) O total de vendas é maior durante o dia ou noite? (Não se preocupe com o groupby por enquanto, apenas some as vendas para cada periodo)"
   ]
  },
  {
   "cell_type": "code",
   "execution_count": 22,
   "id": "3cd3f18e",
   "metadata": {},
   "outputs": [
    {
     "name": "stdout",
     "output_type": "stream",
     "text": [
      "vendas de noite:189655.03\n",
      "vendas de dia:152742.46\n"
     ]
    }
   ],
   "source": [
    "vendas_noite = df[df['escala_noturna'] == True]['vendas'].sum()\n",
    "vendas_dia = df[df['escala_noturna'] == False]['vendas'].sum()\n",
    "\n",
    "print(f\"vendas de noite:{vendas_noite:.2f}\")\n",
    "print(f\"vendas de dia:{vendas_dia:.2f}\")\n",
    "\n"
   ]
  },
  {
   "cell_type": "code",
   "execution_count": null,
   "id": "886a1a14",
   "metadata": {},
   "outputs": [
    {
     "name": "stdout",
     "output_type": "stream",
     "text": [
      "Vendas de noite: R$189655.03\n",
      "Vendas de dia: R$152742.46\n"
     ]
    }
   ],
   "source": [
    "# Não rode essa linha de código para não perder o resultado de exemplo"
   ]
  }
 ],
 "metadata": {
  "kernelspec": {
   "display_name": "Python 3",
   "language": "python",
   "name": "python3"
  },
  "language_info": {
   "codemirror_mode": {
    "name": "ipython",
    "version": 3
   },
   "file_extension": ".py",
   "mimetype": "text/x-python",
   "name": "python",
   "nbconvert_exporter": "python",
   "pygments_lexer": "ipython3",
   "version": "3.13.2"
  }
 },
 "nbformat": 4,
 "nbformat_minor": 5
}
