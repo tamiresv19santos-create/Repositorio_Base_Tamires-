{
 "cells": [
  {
   "cell_type": "markdown",
   "id": "19f23686",
   "metadata": {},
   "source": [
    "### 1. Importação de Bibliotecas\n",
    "Realize a importação da biblioteca pandas.\n"
   ]
  },
  {
   "cell_type": "code",
   "execution_count": 19,
   "id": "e7df4e68",
   "metadata": {},
   "outputs": [],
   "source": [
    "### importando a biblioteca pandas\n",
    "import pandas as pd"
   ]
  },
  {
   "cell_type": "markdown",
   "id": "f35c3ba1",
   "metadata": {},
   "source": [
    "### 2. Importação da Base de Dados\n",
    "\n",
    "Importe o arquivo 'Tabela_Clubes.csv' o transforme em um dataframe e mostre as informações."
   ]
  },
  {
   "cell_type": "code",
   "execution_count": 20,
   "id": "7af2e372",
   "metadata": {},
   "outputs": [
    {
     "name": "stdout",
     "output_type": "stream",
     "text": [
      "<class 'pandas.core.frame.DataFrame'>\n",
      "RangeIndex: 200 entries, 0 to 199\n",
      "Data columns (total 17 columns):\n",
      " #   Column         Non-Null Count  Dtype  \n",
      "---  ------         --------------  -----  \n",
      " 0   Ano            200 non-null    int64  \n",
      " 1   Pos.           200 non-null    int64  \n",
      " 2   Clubes         200 non-null    object \n",
      " 3   Vitorias       200 non-null    int64  \n",
      " 4   Derrotas       200 non-null    int64  \n",
      " 5   Empates        200 non-null    int64  \n",
      " 6   GolsF/S        200 non-null    object \n",
      " 7   Saldo          200 non-null    int64  \n",
      " 8   Qtd_Jogadores  200 non-null    int64  \n",
      " 9   Idade_Media    200 non-null    object \n",
      " 10  Estrangeiros   200 non-null    int64  \n",
      " 11  Valor_total    200 non-null    int64  \n",
      " 12  Media_Valor    200 non-null    int64  \n",
      " 13  Unnamed: 13    1 non-null      float64\n",
      " 14  Unnamed: 14    1 non-null      float64\n",
      " 15  Unnamed: 15    1 non-null      object \n",
      " 16  Unnamed: 16    1 non-null      float64\n",
      "dtypes: float64(3), int64(10), object(4)\n",
      "memory usage: 26.7+ KB\n"
     ]
    }
   ],
   "source": [
    "### carregando o arquivo CSV em um DataFrame\n",
    "df = pd.read_csv(\"Tabela_Clubes.csv\")\n",
    "\n",
    "### mostrando as informações gerais do DataFrame\n",
    "df.info()\n"
   ]
  },
  {
   "cell_type": "markdown",
   "id": "1b119404",
   "metadata": {},
   "source": [
    "### 3. Mostre as primeiras linhas do DataFrame"
   ]
  },
  {
   "cell_type": "code",
   "execution_count": 12,
   "id": "ca1f97ac",
   "metadata": {},
   "outputs": [
    {
     "data": {
      "text/html": [
       "<div>\n",
       "<style scoped>\n",
       "    .dataframe tbody tr th:only-of-type {\n",
       "        vertical-align: middle;\n",
       "    }\n",
       "\n",
       "    .dataframe tbody tr th {\n",
       "        vertical-align: top;\n",
       "    }\n",
       "\n",
       "    .dataframe thead th {\n",
       "        text-align: right;\n",
       "    }\n",
       "</style>\n",
       "<table border=\"1\" class=\"dataframe\">\n",
       "  <thead>\n",
       "    <tr style=\"text-align: right;\">\n",
       "      <th></th>\n",
       "      <th>Ano</th>\n",
       "      <th>Pos.</th>\n",
       "      <th>Clubes</th>\n",
       "      <th>Vitorias</th>\n",
       "      <th>Derrotas</th>\n",
       "      <th>Empates</th>\n",
       "      <th>GolsF/S</th>\n",
       "      <th>Saldo</th>\n",
       "      <th>Qtd_Jogadores</th>\n",
       "      <th>Idade_Media</th>\n",
       "      <th>Estrangeiros</th>\n",
       "      <th>Valor_total</th>\n",
       "      <th>Media_Valor</th>\n",
       "      <th>Unnamed: 13</th>\n",
       "      <th>Unnamed: 14</th>\n",
       "      <th>Unnamed: 15</th>\n",
       "      <th>Unnamed: 16</th>\n",
       "    </tr>\n",
       "  </thead>\n",
       "  <tbody>\n",
       "    <tr>\n",
       "      <th>0</th>\n",
       "      <td>2017</td>\n",
       "      <td>18</td>\n",
       "      <td>America-MG</td>\n",
       "      <td>10</td>\n",
       "      <td>10</td>\n",
       "      <td>18</td>\n",
       "      <td>30:47</td>\n",
       "      <td>-17</td>\n",
       "      <td>51</td>\n",
       "      <td>24,8</td>\n",
       "      <td>0</td>\n",
       "      <td>27350000</td>\n",
       "      <td>536000</td>\n",
       "      <td>NaN</td>\n",
       "      <td>NaN</td>\n",
       "      <td>NaN</td>\n",
       "      <td>NaN</td>\n",
       "    </tr>\n",
       "    <tr>\n",
       "      <th>1</th>\n",
       "      <td>2017</td>\n",
       "      <td>7</td>\n",
       "      <td>Athletico-PR</td>\n",
       "      <td>16</td>\n",
       "      <td>9</td>\n",
       "      <td>13</td>\n",
       "      <td>54:37</td>\n",
       "      <td>17</td>\n",
       "      <td>52</td>\n",
       "      <td>24</td>\n",
       "      <td>3</td>\n",
       "      <td>37650000</td>\n",
       "      <td>724000</td>\n",
       "      <td>NaN</td>\n",
       "      <td>NaN</td>\n",
       "      <td>NaN</td>\n",
       "      <td>NaN</td>\n",
       "    </tr>\n",
       "    <tr>\n",
       "      <th>2</th>\n",
       "      <td>2017</td>\n",
       "      <td>6</td>\n",
       "      <td>Atletico-MG</td>\n",
       "      <td>17</td>\n",
       "      <td>8</td>\n",
       "      <td>13</td>\n",
       "      <td>56:43</td>\n",
       "      <td>13</td>\n",
       "      <td>50</td>\n",
       "      <td>23,4</td>\n",
       "      <td>6</td>\n",
       "      <td>61350000</td>\n",
       "      <td>1230000</td>\n",
       "      <td>NaN</td>\n",
       "      <td>NaN</td>\n",
       "      <td>NaN</td>\n",
       "      <td>NaN</td>\n",
       "    </tr>\n",
       "    <tr>\n",
       "      <th>3</th>\n",
       "      <td>2017</td>\n",
       "      <td>11</td>\n",
       "      <td>Bahia</td>\n",
       "      <td>12</td>\n",
       "      <td>12</td>\n",
       "      <td>14</td>\n",
       "      <td>39:41</td>\n",
       "      <td>-2</td>\n",
       "      <td>48</td>\n",
       "      <td>23,2</td>\n",
       "      <td>2</td>\n",
       "      <td>34900000</td>\n",
       "      <td>727000</td>\n",
       "      <td>NaN</td>\n",
       "      <td>NaN</td>\n",
       "      <td>NaN</td>\n",
       "      <td>NaN</td>\n",
       "    </tr>\n",
       "    <tr>\n",
       "      <th>4</th>\n",
       "      <td>2017</td>\n",
       "      <td>9</td>\n",
       "      <td>Botafogo</td>\n",
       "      <td>13</td>\n",
       "      <td>12</td>\n",
       "      <td>13</td>\n",
       "      <td>38:46</td>\n",
       "      <td>-8</td>\n",
       "      <td>45</td>\n",
       "      <td>23,1</td>\n",
       "      <td>4</td>\n",
       "      <td>25550000</td>\n",
       "      <td>568000</td>\n",
       "      <td>NaN</td>\n",
       "      <td>NaN</td>\n",
       "      <td>NaN</td>\n",
       "      <td>NaN</td>\n",
       "    </tr>\n",
       "  </tbody>\n",
       "</table>\n",
       "</div>"
      ],
      "text/plain": [
       "    Ano  Pos.        Clubes  Vitorias  Derrotas  Empates GolsF/S  Saldo  \\\n",
       "0  2017    18    America-MG        10        10       18   30:47    -17   \n",
       "1  2017     7  Athletico-PR        16         9       13   54:37     17   \n",
       "2  2017     6   Atletico-MG        17         8       13   56:43     13   \n",
       "3  2017    11         Bahia        12        12       14   39:41     -2   \n",
       "4  2017     9      Botafogo        13        12       13   38:46     -8   \n",
       "\n",
       "   Qtd_Jogadores Idade_Media  Estrangeiros  Valor_total  Media_Valor  \\\n",
       "0             51        24,8             0     27350000       536000   \n",
       "1             52          24             3     37650000       724000   \n",
       "2             50        23,4             6     61350000      1230000   \n",
       "3             48        23,2             2     34900000       727000   \n",
       "4             45        23,1             4     25550000       568000   \n",
       "\n",
       "   Unnamed: 13  Unnamed: 14 Unnamed: 15  Unnamed: 16  \n",
       "0          NaN          NaN         NaN          NaN  \n",
       "1          NaN          NaN         NaN          NaN  \n",
       "2          NaN          NaN         NaN          NaN  \n",
       "3          NaN          NaN         NaN          NaN  \n",
       "4          NaN          NaN         NaN          NaN  "
      ]
     },
     "execution_count": 12,
     "metadata": {},
     "output_type": "execute_result"
    }
   ],
   "source": [
    "### mostrando as primeiras linhas do DataFrame\n",
    "df.head()"
   ]
  },
  {
   "cell_type": "markdown",
   "id": "ca76e4a3",
   "metadata": {},
   "source": [
    "### 4. Removendo Colunas sem informações."
   ]
  },
  {
   "cell_type": "code",
   "execution_count": 14,
   "id": "d9903f5e",
   "metadata": {},
   "outputs": [
    {
     "name": "stdout",
     "output_type": "stream",
     "text": [
      "<class 'pandas.core.frame.DataFrame'>\n",
      "RangeIndex: 200 entries, 0 to 199\n",
      "Data columns (total 13 columns):\n",
      " #   Column         Non-Null Count  Dtype \n",
      "---  ------         --------------  ----- \n",
      " 0   Ano            200 non-null    int64 \n",
      " 1   Pos.           200 non-null    int64 \n",
      " 2   Clubes         200 non-null    object\n",
      " 3   Vitorias       200 non-null    int64 \n",
      " 4   Derrotas       200 non-null    int64 \n",
      " 5   Empates        200 non-null    int64 \n",
      " 6   GolsF/S        200 non-null    object\n",
      " 7   Saldo          200 non-null    int64 \n",
      " 8   Qtd_Jogadores  200 non-null    int64 \n",
      " 9   Idade_Media    200 non-null    object\n",
      " 10  Estrangeiros   200 non-null    int64 \n",
      " 11  Valor_total    200 non-null    int64 \n",
      " 12  Media_Valor    200 non-null    int64 \n",
      "dtypes: int64(10), object(3)\n",
      "memory usage: 20.4+ KB\n"
     ]
    }
   ],
   "source": [
    "### Se observamos bem, podemos ver que temos quatro colounas sem nome e sem informações, ou seja valores nulos\n",
    "### removendo as colunas sem nome\n",
    "df = df.drop(columns=['Unnamed: 13', 'Unnamed: 14', 'Unnamed: 15', 'Unnamed: 16'])\n",
    "### mostrando as informações gerais do DataFrame após a remoção das colunas\n",
    "df.info()"
   ]
  },
  {
   "cell_type": "markdown",
   "id": "1f89e998",
   "metadata": {},
   "source": [
    "### 5. Quais os times aparecem na tabela e quantas vezes cada um aparece?"
   ]
  },
  {
   "cell_type": "code",
   "execution_count": 4,
   "id": "88dbf750",
   "metadata": {},
   "outputs": [
    {
     "data": {
      "text/plain": [
       "Clubes\n",
       "Flamengo         10\n",
       "Atletico-MG      10\n",
       "Santos           10\n",
       "Sao Paulo        10\n",
       "Cruzeiro         10\n",
       "Corinthians      10\n",
       "Gremio           10\n",
       "Fluminense       10\n",
       "Palmeiras         9\n",
       "Athletico-PR      9\n",
       "Botafogo          9\n",
       "Internacional     9\n",
       "Coritiba          8\n",
       "Vasco             7\n",
       "Sport             7\n",
       "Vitoria           7\n",
       "Bahia             6\n",
       "Figueirense       5\n",
       "Goias             5\n",
       "Ponte Preta       5\n",
       "Chapecoense       5\n",
       "Avai              5\n",
       "Atletico-GO       4\n",
       "America-MG        3\n",
       "Nautico           3\n",
       "Ceara             3\n",
       "Criciuma          2\n",
       "Prudente          2\n",
       "Portuguesa        2\n",
       "Parana            1\n",
       "Santa Cruz        1\n",
       "Joinville         1\n",
       "Guarani           1\n",
       "Santo Andre       1\n",
       "Name: count, dtype: int64"
      ]
     },
     "execution_count": 4,
     "metadata": {},
     "output_type": "execute_result"
    }
   ],
   "source": [
    "### vamos ver quais os times aparecem na tabela e quantas vezes cada um aparece\n",
    "df['Clubes'].value_counts()"
   ]
  },
  {
   "cell_type": "markdown",
   "id": "5a10e797",
   "metadata": {},
   "source": [
    "### 6. Quantos times diferentes temos no DataFrame?"
   ]
  },
  {
   "cell_type": "code",
   "execution_count": 5,
   "id": "e3d45ab9",
   "metadata": {},
   "outputs": [
    {
     "data": {
      "text/plain": [
       "34"
      ]
     },
     "execution_count": 5,
     "metadata": {},
     "output_type": "execute_result"
    }
   ],
   "source": [
    "### vamos contar o total de times únicos na tabela\n",
    "df['Clubes'].nunique()"
   ]
  },
  {
   "cell_type": "markdown",
   "id": "01807fe6",
   "metadata": {},
   "source": [
    "### 7. Quais os anos que aparecem no DataFrame?"
   ]
  },
  {
   "cell_type": "code",
   "execution_count": 9,
   "id": "1745f2aa",
   "metadata": {},
   "outputs": [
    {
     "data": {
      "text/plain": [
       "array([2008, 2009, 2010, 2011, 2012, 2013, 2014, 2015, 2016, 2017])"
      ]
     },
     "execution_count": 9,
     "metadata": {},
     "output_type": "execute_result"
    }
   ],
   "source": [
    "### vamos ver quais anos aparecem na tabela\n",
    "df['Ano'].value_counts()\n",
    "\n",
    "### vamos ordenar os anos de forma crescente\n",
    "df['Ano'].sort_values().unique()"
   ]
  },
  {
   "cell_type": "markdown",
   "id": "32193331",
   "metadata": {},
   "source": [
    "### 8. Quais os campeões de cada ano?"
   ]
  },
  {
   "cell_type": "code",
   "execution_count": 21,
   "id": "93a51960",
   "metadata": {},
   "outputs": [
    {
     "ename": "AttributeError",
     "evalue": "'list' object has no attribute 'sort_values'",
     "output_type": "error",
     "traceback": [
      "\u001b[31m---------------------------------------------------------------------------\u001b[39m",
      "\u001b[31mAttributeError\u001b[39m                            Traceback (most recent call last)",
      "\u001b[36mCell\u001b[39m\u001b[36m \u001b[39m\u001b[32mIn[21]\u001b[39m\u001b[32m, line 3\u001b[39m\n\u001b[32m      1\u001b[39m \u001b[38;5;66;03m### vamos verificar os campeões de cada ano e ordenar por ano\u001b[39;00m\n\u001b[32m      2\u001b[39m campeoes= df[df[\u001b[33m'\u001b[39m\u001b[33mPos.\u001b[39m\u001b[33m'\u001b[39m] == \u001b[32m1\u001b[39m]\n\u001b[32m----> \u001b[39m\u001b[32m3\u001b[39m campeoes= \u001b[43m[\u001b[49m\u001b[43m[\u001b[49m\u001b[33;43m'\u001b[39;49m\u001b[33;43mAno\u001b[39;49m\u001b[33;43m'\u001b[39;49m\u001b[43m,\u001b[49m\u001b[33;43m'\u001b[39;49m\u001b[33;43mClubes\u001b[39;49m\u001b[33;43m'\u001b[39;49m\u001b[43m]\u001b[49m\u001b[43m]\u001b[49m\u001b[43m.\u001b[49m\u001b[43msort_values\u001b[49m(by=\u001b[33m'\u001b[39m\u001b[33mAno\u001b[39m\u001b[33m'\u001b[39m)\n",
      "\u001b[31mAttributeError\u001b[39m: 'list' object has no attribute 'sort_values'"
     ]
    }
   ],
   "source": [
    "### vamos verificar os campeões de cada ano e ordenar por ano\n",
    "campeoes= df[df['Pos.'] == 1]\n",
    "campeoes= [['Ano','Clubes']].sort_values(by='Ano')"
   ]
  },
  {
   "cell_type": "markdown",
   "id": "98a4cdf5",
   "metadata": {},
   "source": [
    "### 9. Qual o time que foi mais vezes campeão?\n"
   ]
  },
  {
   "cell_type": "code",
   "execution_count": null,
   "id": "3e3eee08",
   "metadata": {},
   "outputs": [],
   "source": [
    "### qual time apareceu mais vezes como campeão?"
   ]
  },
  {
   "cell_type": "markdown",
   "id": "bdc5cc77",
   "metadata": {},
   "source": [
    "### 10. Agora uma piada 😄, quais times paulistas não aparecem nenhuma vez como campeão?\n",
    "\n",
    "Responda com um print"
   ]
  },
  {
   "cell_type": "code",
   "execution_count": null,
   "id": "f146d2ed",
   "metadata": {},
   "outputs": [],
   "source": [
    "### seu código aqui\n",
    "times_paulistas = ['Corinthians','Palmeiras','São Paulo','Portuguesa','Bragantino','Guarani','Ponte Preta']"
   ]
  },
  {
   "cell_type": "markdown",
   "id": "46a6bac4",
   "metadata": {},
   "source": [
    "### 11. Qual o time com mais derrotas?"
   ]
  },
  {
   "cell_type": "code",
   "execution_count": null,
   "id": "302888c4",
   "metadata": {},
   "outputs": [],
   "source": [
    "### qual o time com mais derrotas?\n",
    "\n",
    "\n",
    "### mostrando todas as informações do time com mais derrotas\n"
   ]
  },
  {
   "cell_type": "markdown",
   "id": "1bf7efbf",
   "metadata": {},
   "source": [
    "### 12. Qual o time com menos derrotas?"
   ]
  },
  {
   "cell_type": "code",
   "execution_count": null,
   "id": "b198cf03",
   "metadata": {},
   "outputs": [],
   "source": [
    "### qual o time com menos derrotas?\n",
    "\n",
    "\n",
    "\n",
    "\n",
    "### mostrando todas as informações do time com menos derrotas\n"
   ]
  },
  {
   "cell_type": "markdown",
   "id": "fafc295b",
   "metadata": {},
   "source": [
    "### 13. Qual o time com maior número de estrangeiros?"
   ]
  },
  {
   "cell_type": "code",
   "execution_count": null,
   "id": "e52abc32",
   "metadata": {},
   "outputs": [],
   "source": [
    "### qual o time com maior número de estrangeiros?\n",
    "\n",
    "\n",
    "### mostrando todas as informações do time com mais estrangeiros\n"
   ]
  },
  {
   "cell_type": "markdown",
   "id": "065c3f0f",
   "metadata": {},
   "source": [
    "### 14. qual o time com o menor número de estrangeiros?"
   ]
  },
  {
   "cell_type": "code",
   "execution_count": null,
   "id": "382bb373",
   "metadata": {},
   "outputs": [],
   "source": [
    "### qual o time com menor número de estrangeiros?\n"
   ]
  },
  {
   "cell_type": "markdown",
   "id": "9b99c0cb",
   "metadata": {},
   "source": [
    "### 15. Bônus\n",
    "\n",
    "Vamos criar um gráfico que mostre os maiores campeões presentes nessa base de dados"
   ]
  },
  {
   "cell_type": "code",
   "execution_count": 38,
   "id": "266cb1f8",
   "metadata": {},
   "outputs": [
    {
     "data": {
      "image/png": "[encoded data removed]",
      "text/plain": [
       "<Figure size 1400x800 with 1 Axes>"
      ]
     },
     "metadata": {},
     "output_type": "display_data"
    }
   ],
   "source": [
    "import matplotlib.pyplot as plt\n",
    "\n",
    "# Vamos criar um gráfico de barras para visualizar os times com mais títulos\n",
    "titulos = campeoes['Clubes'].value_counts()\n",
    "\n",
    "plt.figure(figsize=(14, 8))\n",
    "bars = plt.bar(titulos.index, titulos.values, \n",
    "               color=['#1f77b4', '#ff7f0e', '#2ca02c', '#d62728', '#9467bd', \n",
    "                      '#8c564b', '#e377c2', '#7f7f7f', '#bcbd22', '#17becf'],\n",
    "               edgecolor='black', linewidth=0.5, alpha=0.8)\n",
    "\n",
    "# Adicionar os valores em cima de cada barra\n",
    "for bar in bars:\n",
    "    height = bar.get_height()\n",
    "    plt.text(bar.get_x() + bar.get_width()/2., height + 0.05,\n",
    "             f'{int(height)}', ha='center', va='bottom', fontsize=10, fontweight='bold')\n",
    "\n",
    "plt.title('Times com Mais Títulos', fontsize=16, fontweight='bold', pad=20)\n",
    "plt.xlabel('Clubes', fontsize=12, fontweight='bold')\n",
    "plt.ylabel('Número de Títulos', fontsize=12, fontweight='bold')\n",
    "\n",
    "# Ajustar a escala do eixo Y de 0 a 3\n",
    "plt.ylim(0, 3)\n",
    "\n",
    "# Melhorar a aparência dos eixos\n",
    "plt.xticks(rotation=0, ha='right')\n",
    "plt.yticks(range(0, 4))  # Apenas números inteiros de 0 a 3\n",
    "\n",
    "# Adicionar grid para melhor leitura\n",
    "plt.grid(axis='y', alpha=0.3, linestyle='--')\n",
    "\n",
    "# Ajustar layout para evitar cortes\n",
    "plt.tight_layout()\n",
    "\n",
    "# Mostrar o gráfico\n",
    "plt.show()"
   ]
  }
 ],
 "metadata": {
  "kernelspec": {
   "display_name": "Python 3",
   "language": "python",
   "name": "python3"
  },
  "language_info": {
   "codemirror_mode": {
    "name": "ipython",
    "version": 3
   },
   "file_extension": ".py",
   "mimetype": "text/x-python",
   "name": "python",
   "nbconvert_exporter": "python",
   "pygments_lexer": "ipython3",
   "version": "3.13.2"
  }
 },
 "nbformat": 4,
 "nbformat_minor": 5
}
